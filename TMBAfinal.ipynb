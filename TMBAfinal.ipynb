{
 "cells": [
  {
   "cell_type": "code",
   "execution_count": 169,
   "id": "5dce95f6",
   "metadata": {},
   "outputs": [],
   "source": [
    "import pandas as pd\n",
    "import numpy as np\n",
    "import matplotlib.pyplot as plt\n",
    "import quantstats as qs"
   ]
  },
  {
   "cell_type": "code",
   "execution_count": 170,
   "id": "8086b4b1",
   "metadata": {},
   "outputs": [],
   "source": [
    "# 讀取資料\n",
    "vix_df = pd.read_csv(\"VIX_History.csv\", parse_dates=['Date'])\n",
    "txf_df  = pd.read_csv('TXF_R1_1min_data_combined.csv', parse_dates=['datetime'])\n",
    "# df_0050 = pd.read_excel(\"0050.xlsx\")"
   ]
  },
  {
   "cell_type": "code",
   "execution_count": 171,
   "id": "f47b5c60",
   "metadata": {},
   "outputs": [],
   "source": [
    "# 篩選日盤時間\n",
    "txf_df = txf_df[\n",
    "    (txf_df['datetime'].dt.time >= pd.to_datetime('08:45').time()) &\n",
    "    (txf_df['datetime'].dt.time <= pd.to_datetime('13:45').time())\n",
    "]\n",
    "txf_df = txf_df[(txf_df['datetime'] >= '2009-01-01') & (txf_df['datetime'] <= '2025-06-30')]\n",
    "# 新增一欄日期方便 groupby（只保留年月日）\n",
    "txf_df['date'] = txf_df['datetime'].dt.date\n",
    "\n",
    "# 聚合當日日盤資料\n",
    "txf_df = txf_df.groupby('date').agg(\n",
    "    Open=('Open', 'first'),\n",
    "    High=('High', 'max'),\n",
    "    Low=('Low', 'min'),\n",
    "    Close=('Close', 'last')\n",
    ").reset_index()\n",
    "\n",
    "# 若你想把 date 轉回 datetime\n",
    "txf_df['datetime'] = pd.to_datetime(txf_df['date'])\n"
   ]
  },
  {
   "cell_type": "code",
   "execution_count": 172,
   "id": "e5fd852b",
   "metadata": {},
   "outputs": [
    {
     "name": "stderr",
     "output_type": "stream",
     "text": [
      "C:\\Users\\herby\\AppData\\Local\\Temp\\ipykernel_20116\\4014616098.py:14: FutureWarning:\n",
      "\n",
      "DataFrame.fillna with 'method' is deprecated and will raise in a future version. Use obj.ffill() or obj.bfill() instead.\n",
      "\n"
     ]
    }
   ],
   "source": [
    "# 將VIX時間與台灣時間對齊\n",
    "vix_df = vix_df.rename(columns={'Close': 'VIX'}).fillna(0)\n",
    "vix_df = vix_df.rename(columns={'Date': 'datetime'}).fillna(0)\n",
    "vix_df = vix_df[['datetime', 'VIX']]\n",
    "vix_df['datetime'] = pd.to_datetime(vix_df['datetime']) + pd.Timedelta(days=1)\n",
    "\n",
    "# 將資料標準化\n",
    "txf_df['datetime'] = pd.to_datetime(txf_df['datetime']).dt.normalize()\n",
    "vix_df['datetime'] = pd.to_datetime(vix_df['datetime']).dt.normalize()\n",
    "\n",
    "# 合併資料\n",
    "txf_df = pd.merge(txf_df, vix_df, on='datetime', how='left')\n",
    "txf_df = txf_df.sort_values('datetime')\n",
    "txf_df.fillna(method='ffill', inplace=True)\n",
    "txf_df.at[0, 'VIX'] = 39.19\n",
    "\n",
    "# 紀錄市場報酬\n",
    "market_df = txf_df.copy()"
   ]
  },
  {
   "cell_type": "code",
   "execution_count": 173,
   "id": "61b1f8a3",
   "metadata": {},
   "outputs": [],
   "source": [
    "# 技術指標計算\n",
    "txf_df['High10'] = txf_df['High'].rolling(10).max()\n",
    "txf_df['Low10'] = txf_df['Low'].rolling(10).min()\n",
    "txf_df['%R'] = (txf_df['High10'] - txf_df['Close']) / (txf_df['High10'] - txf_df['Low10']) * -100\n",
    "\n",
    "# txf_df['VIX_10d_max'] = txf_df['VIX'].rolling(3).max()\n",
    "# txf_df['VIX_10d_new_high'] = txf_df['VIX'] == txf_df['VIX_10d_max']\n",
    "# txf_df.drop(columns=['VIX_10d_max'], inplace=True)"
   ]
  },
  {
   "cell_type": "code",
   "execution_count": 174,
   "id": "f266058b",
   "metadata": {},
   "outputs": [],
   "source": [
    "txf_df['PositionRaw'] = 0\n",
    "txf_df['EntrySignal'] = 0\n",
    "txf_df['ExitSignal'] = 0\n",
    "txf_df['PnL'] = 0.0          # 單日損益（不含成本）\n",
    "txf_df['Cost'] = 0.0         # 單日交易成本\n",
    "txf_df['NetPnL'] = 0.0       # 單日淨損益（含成本）\n",
    "txf_df['Equity'] = 1_000_000 # 資金曲線\n",
    "txf_df['TradeReturn'] = 0.0  # 每日報酬率\n",
    "txf_df['TradingDate'] = 0\n",
    "\n",
    "position = 0\n",
    "fee_per_trade = 600     # 固定金額，進出各扣一次\n",
    "capital = 1_000_000     # 初始資金\n",
    "contract_size = 200     # 大台一點價值\n",
    "\n",
    "pending_entry = False\n",
    "pending_exit = False\n",
    "\n",
    "for i in range(len(txf_df)):\n",
    "    cost_today = 0.0\n",
    "    pnl = 0.0\n",
    "\n",
    "    if i > 0:\n",
    "        prev_row = txf_df.iloc[i - 1]\n",
    "        row = txf_df.iloc[i]\n",
    "        point_diff = row['Close'] - prev_row['Close']\n",
    "\n",
    "        # 先計算當日損益（基於進入當日的持倉位置）\n",
    "        if position > 0:\n",
    "            pnl = point_diff * contract_size\n",
    "\n",
    "        # 處理前一天的 pending 進出場（在當日執行）\n",
    "        if pending_exit:\n",
    "            position = 0\n",
    "            cost_today += fee_per_trade  # 出場扣費\n",
    "            pending_exit = False\n",
    "\n",
    "        if pending_entry:\n",
    "            position = 1\n",
    "            cost_today += fee_per_trade  # 進場扣費\n",
    "            pending_entry = False\n",
    "\n",
    "        # 計算淨損益並更新資本\n",
    "        net_pnl = pnl - cost_today\n",
    "        trade_return = net_pnl / capital if capital > 0 else 0\n",
    "        capital += net_pnl\n",
    "\n",
    "        # 存入 DataFrame\n",
    "        txf_df.at[i, 'PnL'] = pnl\n",
    "        txf_df.at[i, 'Cost'] = cost_today\n",
    "        txf_df.at[i, 'NetPnL'] = net_pnl\n",
    "        txf_df.at[i, 'TradeReturn'] = trade_return\n",
    "        txf_df.at[i, 'Equity'] = capital\n",
    "\n",
    "    # 記錄當日結束時的持倉位置\n",
    "    txf_df.at[i, 'PositionRaw'] = position\n",
    "\n",
    "    # 檢查當日訊號，為下一天設定 pending（如果不是最後一天）\n",
    "    if i < len(txf_df) - 1:\n",
    "        row = txf_df.iloc[i]\n",
    "\n",
    "        # 進出場訊號（訊號產生，但延遲到下一天執行）\n",
    "        long_signal = (row['%R'] < -95) and (row['VIX'] > 18)\n",
    "        exit_signal = (row['%R'] > -1)\n",
    "\n",
    "        # 出場訊號（包含原邏輯的 or long_signal，以避免重複進場）\n",
    "        if position > 0 and (exit_signal or long_signal):\n",
    "            pending_exit = True\n",
    "            txf_df.at[i, 'ExitSignal'] = 1  # 標記訊號日（實際執行在 i+1）\n",
    "\n",
    "        # 進場訊號（無論是否持倉，如果有新訊號且需先出場，則在出場後進場）\n",
    "        if long_signal:\n",
    "            pending_entry = True\n",
    "            txf_df.at[i, 'EntrySignal'] = 1  # 標記訊號日（實際執行在 i+1）\n",
    "\n",
    "# 標記交易區間\n",
    "in_trade = False\n",
    "for i in range(len(txf_df)):\n",
    "    if txf_df.at[i, 'PositionRaw'] == 1 and not in_trade:\n",
    "        in_trade = True\n",
    "    if in_trade:\n",
    "        txf_df.at[i, 'TradingDate'] = 1\n",
    "    if in_trade and txf_df.at[i, 'PositionRaw'] == 0 and (i > 0 and txf_df.at[i - 1, 'PositionRaw'] == 1):\n",
    "        in_trade = False"
   ]
  },
  {
   "cell_type": "code",
   "execution_count": 175,
   "id": "3c46b9ff",
   "metadata": {},
   "outputs": [
    {
     "data": {
      "image/png": "[encoded data removed]",
      "text/plain": [
       "<Figure size 864x576 with 2 Axes>"
      ]
     },
     "metadata": {
      "needs_background": "light"
     },
     "output_type": "display_data"
    },
    {
     "name": "stdout",
     "output_type": "stream",
     "text": [
      "Best Parameters (In-Sample): Entry %R < -95, Exit %R > -2.0, Sharpe: 1.08\n"
     ]
    }
   ],
   "source": [
    "import numpy as np\n",
    "import pandas as pd\n",
    "import matplotlib.pyplot as plt\n",
    "\n",
    "# --- 篩選樣本內資料（2020/01/01 以前） ---\n",
    "txf_df['datetime'] = pd.to_datetime(txf_df['datetime'])\n",
    "txf_in_sample = txf_df[txf_df['datetime'] < '2020-01-01'].copy()\n",
    "\n",
    "# --- 參數最佳化函數 ---\n",
    "def backtest(txf_df, entry_th, exit_th, vix_th=18):\n",
    "    txf_df = txf_df.copy()\n",
    "    txf_df['PositionRaw'] = 0\n",
    "    txf_df['EntrySignal'] = 0\n",
    "    txf_df['ExitSignal'] = 0\n",
    "    txf_df['PnL'] = 0.0\n",
    "    txf_df['Cost'] = 0.0\n",
    "    txf_df['NetPnL'] = 0.0\n",
    "    txf_df['Equity'] = 1_000_000\n",
    "    txf_df['TradeReturn'] = 0.0\n",
    "    txf_df['TradingDate'] = 0\n",
    "\n",
    "    position = 0\n",
    "    fee_per_trade = 600\n",
    "    capital = 1_000_000\n",
    "    contract_size = 200\n",
    "\n",
    "    pending_entry = False\n",
    "    pending_exit = False\n",
    "\n",
    "    for i in range(len(txf_df)):\n",
    "        cost_today = 0.0\n",
    "        pnl = 0.0\n",
    "\n",
    "        if i > 0:\n",
    "            prev_row = txf_df.iloc[i - 1]\n",
    "            row = txf_df.iloc[i]\n",
    "            point_diff = row['Close'] - prev_row['Close']\n",
    "\n",
    "            if position > 0:\n",
    "                pnl = point_diff * contract_size\n",
    "\n",
    "            if pending_exit:\n",
    "                position = 0\n",
    "                cost_today += fee_per_trade\n",
    "                pending_exit = False\n",
    "\n",
    "            if pending_entry:\n",
    "                position = 1\n",
    "                cost_today += fee_per_trade\n",
    "                pending_entry = False\n",
    "\n",
    "            net_pnl = pnl - cost_today\n",
    "            trade_return = net_pnl / capital if capital > 0 else 0\n",
    "            capital += net_pnl\n",
    "\n",
    "            txf_df.at[i, 'PnL'] = pnl\n",
    "            txf_df.at[i, 'Cost'] = cost_today\n",
    "            txf_df.at[i, 'NetPnL'] = net_pnl\n",
    "            txf_df.at[i, 'TradeReturn'] = trade_return\n",
    "            txf_df.at[i, 'Equity'] = capital\n",
    "\n",
    "        txf_df.at[i, 'PositionRaw'] = position\n",
    "\n",
    "        if i < len(txf_df) - 1:\n",
    "            row = txf_df.iloc[i]\n",
    "            long_signal = (row['%R'] < entry_th) and (row['VIX'] > vix_th)\n",
    "            exit_signal = (row['%R'] > exit_th)\n",
    "\n",
    "            if position > 0 and (exit_signal or long_signal):\n",
    "                pending_exit = True\n",
    "                txf_df.at[i, 'ExitSignal'] = 1\n",
    "\n",
    "            if long_signal:\n",
    "                pending_entry = True\n",
    "                txf_df.at[i, 'EntrySignal'] = 1\n",
    "\n",
    "    returns = txf_df['TradeReturn']\n",
    "    sharpe = np.mean(returns) / np.std(returns) * np.sqrt(252) if len(returns) > 1 and np.std(returns) != 0 else 0.0\n",
    "    return sharpe, txf_df['Equity'].iloc[-1]\n",
    "\n",
    "# --- 最佳化參數範圍 ---\n",
    "entry_th_range = np.arange(-100, -60, 5)  # %R 進場門檻\n",
    "exit_th_range = np.arange(-5, 0, 0.5)    # %R 出場門檻\n",
    "\n",
    "# --- 收集結果 ---\n",
    "results = []\n",
    "for entry_th in entry_th_range:\n",
    "    for exit_th in exit_th_range:\n",
    "        sharpe, final_equity = backtest(txf_in_sample, entry_th, exit_th, vix_th=18)\n",
    "        results.append({'entry_th': entry_th, 'exit_th': exit_th, 'sharpe': sharpe, 'final_equity': final_equity})\n",
    "\n",
    "results_df = pd.DataFrame(results)\n",
    "\n",
    "# --- 繪製參數高原熱圖 ---\n",
    "pivot_sharpe = results_df.pivot(index='entry_th', columns='exit_th', values='sharpe')\n",
    "fig, ax = plt.subplots(figsize=(12, 8))\n",
    "im = ax.imshow(pivot_sharpe.values, cmap='viridis', aspect='auto')\n",
    "\n",
    "ax.set_xticks(np.arange(len(exit_th_range)))\n",
    "ax.set_yticks(np.arange(len(entry_th_range)))\n",
    "ax.set_xticklabels([f'{x:.1f}' for x in exit_th_range], rotation=45)\n",
    "ax.set_yticklabels([f'{x:.1f}' for x in entry_th_range])\n",
    "plt.colorbar(im, label='Sharpe Ratio')\n",
    "ax.set_xlabel('Exit %R Threshold')\n",
    "ax.set_ylabel('Entry %R Threshold')\n",
    "ax.set_title('Parameter Plateau: Sharpe Ratio Heatmap (VIX > 18, In-Sample)')\n",
    "\n",
    "plt.show()\n",
    "\n",
    "# --- 印出最佳參數 ---\n",
    "best_idx = results_df['sharpe'].idxmax()\n",
    "best_entry = results_df.loc[best_idx, 'entry_th']\n",
    "best_exit = results_df.loc[best_idx, 'exit_th']\n",
    "best_sharpe = results_df.loc[best_idx, 'sharpe']\n",
    "print(f'Best Parameters (In-Sample): Entry %R < {best_entry}, Exit %R > {best_exit}, Sharpe: {best_sharpe:.2f}')\n"
   ]
  },
  {
   "cell_type": "code",
   "execution_count": 176,
   "id": "e3a35ee8",
   "metadata": {},
   "outputs": [
    {
     "name": "stdout",
     "output_type": "stream",
     "text": [
      "                            Overall  In-sample (<2020)  Out-of-sample (>=2020)\n",
      "Sharpe Ratio                   0.86               0.97                    0.75\n",
      "Sortino Ratio                  0.08               0.10                    0.07\n",
      "Max Drawdown                   0.29               0.19                    0.29\n",
      "Max Losing Streak (days)     605.00             317.00                  605.00\n",
      "Annualized Return              0.09               0.09                    0.10\n",
      "Total Return                   3.45               1.68                    0.66\n",
      "Risk-Return Ratio             11.86               8.67                    2.28\n",
      "Calmar Ratio                   0.33               0.48                    0.33\n",
      "Annualized Volatility          0.12               0.10                    0.14\n",
      "Average Daily Return           0.00               0.00                    0.00\n",
      "Average Daily Loss            -0.01              -0.01                   -0.01\n",
      "Win Rate (daily, >=0)          0.83               0.85                    0.80\n",
      "Profit Factor (daily, >=0)     1.30               1.36                    1.24\n",
      "Total Days                  4044.00            2712.00                 1332.00\n"
     ]
    }
   ],
   "source": [
    "import numpy as np\n",
    "import pandas as pd\n",
    "import matplotlib.pyplot as plt\n",
    "\n",
    "def calculate_metrics(txf_df, initial_capital=1_000_000, trading_days=252):\n",
    "    txf_df = txf_df.copy()\n",
    "    txf_df['datetime'] = pd.to_datetime(txf_df['datetime'])\n",
    "    \n",
    "    # --- 計算每日報酬率 (%)\n",
    "    equity = txf_df['Equity']\n",
    "    prev_equity = equity.shift(1).fillna(initial_capital)\n",
    "    daily_returns = equity.pct_change().fillna(0)  # 使用前日 Equity 計算報酬率\n",
    "\n",
    "    # --- Sharpe Ratio ---\n",
    "    sharpe = np.mean(daily_returns) / np.std(daily_returns) * np.sqrt(trading_days) if np.std(daily_returns) != 0 else np.nan\n",
    "\n",
    "    # --- 下行波動與 Sortino Ratio ---\n",
    "    target = 0.0\n",
    "    downside_returns = np.minimum(daily_returns - target, 0)\n",
    "    downside_vol = np.std(downside_returns) * np.sqrt(trading_days) if len(downside_returns) > 0 else np.nan\n",
    "    sortino = (np.mean(daily_returns) - target) * np.sqrt(trading_days) / downside_vol if downside_vol != 0 else np.nan\n",
    "\n",
    "    # --- Drawdown & Max Losing Streak ---\n",
    "    rolling_max = equity.cummax()\n",
    "    drawdowns = (rolling_max - equity) / rolling_max\n",
    "    mdd = drawdowns.max()\n",
    "\n",
    "    # 計算連續虧損天數\n",
    "    dd_flag = drawdowns > 0\n",
    "    max_losing_streak = (dd_flag.groupby((dd_flag != dd_flag.shift()).cumsum()).cumsum()).max()\n",
    "\n",
    "    # --- 年化報酬 & 總報酬 ---\n",
    "    n_years = (txf_df['datetime'].iloc[-1] - txf_df['datetime'].iloc[0]).days / 365.25\n",
    "    final_equity = equity.iloc[-1]\n",
    "    total_return = final_equity / initial_capital - 1\n",
    "    cagr = (final_equity / initial_capital) ** (1 / n_years) - 1 if n_years > 0 else np.nan\n",
    "\n",
    "    # --- Risk-Return & Calmar ---\n",
    "    risk_return_ratio = total_return / mdd if mdd > 0 else np.inf\n",
    "    calmar_ratio = cagr / mdd if mdd > 0 else np.inf\n",
    "\n",
    "    # --- 年化波動度 ---\n",
    "    annualized_vol = np.std(daily_returns) * np.sqrt(trading_days)\n",
    "\n",
    "    # --- 日報酬統計 ---\n",
    "    avg_daily_return = np.mean(daily_returns)\n",
    "    avg_daily_loss = np.mean(daily_returns[daily_returns < 0]) if len(daily_returns[daily_returns < 0]) > 0 else 0.0\n",
    "\n",
    "    # --- 勝率 & Profit Factor ---\n",
    "    returns = txf_df['TradeReturn']\n",
    "    positive_returns = returns[returns >= 0]\n",
    "    negative_returns = returns[returns < 0]\n",
    "    win_rate = len(positive_returns) / len(returns) if len(returns) > 0 else np.nan\n",
    "    profit_factor = positive_returns.sum() / abs(negative_returns.sum()) if len(negative_returns) > 0 else np.inf\n",
    "\n",
    "    return {\n",
    "        'Sharpe Ratio': sharpe,\n",
    "        'Sortino Ratio': sortino,\n",
    "        'Max Drawdown': mdd,\n",
    "        'Max Losing Streak (days)': max_losing_streak,\n",
    "        'Annualized Return': cagr,\n",
    "        'Total Return': total_return,\n",
    "        'Risk-Return Ratio': risk_return_ratio,\n",
    "        'Calmar Ratio': calmar_ratio,\n",
    "        'Annualized Volatility': annualized_vol,\n",
    "        'Average Daily Return': avg_daily_return,\n",
    "        'Average Daily Loss': avg_daily_loss,\n",
    "        'Win Rate (daily, >=0)': win_rate,\n",
    "        'Profit Factor (daily, >=0)': profit_factor,\n",
    "        'Total Days': len(returns)\n",
    "    }\n",
    "\n",
    "\n",
    "# --- 分樣本內 / 樣本外 ---\n",
    "split_date = pd.Timestamp(\"2020-01-01\")\n",
    "in_sample = txf_df[txf_df['datetime'] < split_date]\n",
    "out_sample = txf_df[txf_df['datetime'] >= split_date]\n",
    "\n",
    "metrics_in = calculate_metrics(in_sample) if not in_sample.empty else {}\n",
    "# 樣本外初始資金接樣本內結束時的 Equity\n",
    "out_initial_capital = in_sample['Equity'].iloc[-1] if not in_sample.empty else 1_000_000\n",
    "metrics_out = calculate_metrics(out_sample, initial_capital=out_initial_capital) if not out_sample.empty else {}\n",
    "metrics_all = calculate_metrics(txf_df)\n",
    "\n",
    "# --- 整理成 DataFrame ---\n",
    "metrics_df = pd.DataFrame([metrics_all, metrics_in, metrics_out],\n",
    "                          index=['Overall', 'In-sample (<2020)', 'Out-of-sample (>=2020)'])\n",
    "\n",
    "# 轉置表格，指標在行，樣本在欄\n",
    "metrics_df = metrics_df.T\n",
    "\n",
    "# 格式化顯示\n",
    "pd.set_option('display.float_format', '{:.2f}'.format)\n",
    "print(metrics_df)\n"
   ]
  },
  {
   "cell_type": "code",
   "execution_count": 177,
   "id": "b4cd260b",
   "metadata": {},
   "outputs": [],
   "source": [
    "# 報酬可視化\n",
    "txf_df['date'] = pd.to_datetime(txf_df['date'])\n",
    "txf_df['Year'] = txf_df['date'].dt.year\n",
    "txf_df['Month'] = txf_df['date'].dt.month\n",
    "txf_df['Day'] = txf_df['date'].dt.day\n"
   ]
  },
  {
   "cell_type": "code",
   "execution_count": 178,
   "id": "449ae5d1",
   "metadata": {},
   "outputs": [
    {
     "data": {
      "image/png": "[encoded data removed]",
      "text/plain": [
       "<Figure size 720x432 with 1 Axes>"
      ]
     },
     "metadata": {
      "needs_background": "light"
     },
     "output_type": "display_data"
    }
   ],
   "source": [
    "# 每日報酬直方圖\n",
    "import seaborn as sns\n",
    "plt.figure(figsize=(10,6))\n",
    "sns.histplot(txf_df['TradeReturn'], bins=50, kde=True)\n",
    "\n",
    "# 計算平均值\n",
    "mean_return = txf_df['TradeReturn'].mean()\n",
    "\n",
    "# 畫平均線\n",
    "plt.axvline(mean_return, color='red', linestyle='--', linewidth=2, label=f'Mean = {mean_return:.2f}')\n",
    "\n",
    "plt.title('Daily Trade Return Distribution')\n",
    "plt.xlabel('Trade Return')\n",
    "plt.ylabel('Frequency')\n",
    "plt.legend()\n",
    "plt.show()"
   ]
  },
  {
   "cell_type": "code",
   "execution_count": 179,
   "id": "d7002c10",
   "metadata": {},
   "outputs": [
    {
     "data": {
      "image/png": "[encoded data removed]",
      "text/plain": [
       "<Figure size 864x432 with 2 Axes>"
      ]
     },
     "metadata": {
      "needs_background": "light"
     },
     "output_type": "display_data"
    }
   ],
   "source": [
    "# 每月報酬熱力圖\n",
    "monthly_return = txf_df.groupby(['Year','Month'])['TradeReturn'].sum().unstack(level=0)\n",
    "\n",
    "plt.figure(figsize=(12,6))\n",
    "sns.heatmap(monthly_return, annot=True, fmt=\".2%\", cmap=\"RdYlGn\", center=0)\n",
    "plt.title('Monthly Cumulative Trade Return Heatmap')\n",
    "plt.xlabel('Year')\n",
    "plt.ylabel('Month')\n",
    "plt.show()\n"
   ]
  },
  {
   "cell_type": "code",
   "execution_count": 180,
   "id": "57ae3c50",
   "metadata": {},
   "outputs": [
    {
     "data": {
      "image/png": "[encoded data removed]",
      "text/plain": [
       "<Figure size 576x360 with 1 Axes>"
      ]
     },
     "metadata": {
      "needs_background": "light"
     },
     "output_type": "display_data"
    }
   ],
   "source": [
    "# 每年報酬直方圖\n",
    "annual_return = txf_df.groupby('Year')['TradeReturn'].sum()\n",
    "\n",
    "plt.figure(figsize=(8,5))\n",
    "sns.barplot(x=annual_return.index, y=annual_return.values)\n",
    "plt.title('Annual Cumulative Trade Return')\n",
    "plt.xlabel('Year')\n",
    "plt.ylabel('Cumulative Return')\n",
    "plt.show()\n"
   ]
  },
  {
   "cell_type": "code",
   "execution_count": 181,
   "id": "c3894536",
   "metadata": {},
   "outputs": [],
   "source": [
    "# 計算策略單利累積報酬\n",
    "txf_df['CumsumReturn'] = txf_df['TradeReturn'].cumsum()\n",
    "\n",
    "market_df['Return'] = market_df['Close'].pct_change().shift(1)\n",
    "market_df['SimpleReturn'] = market_df['Return'].cumsum()\n",
    "\n",
    "# # 計算0050報酬 (買進手續費 0.1425% + 賣出交易稅 0.3% = 總一次性成本 ≈ 0.4425%)\n",
    "# # 0050每年管理費率約 0.42% 每日費率約 0.42% / 252 = 0.0000166667\n",
    "# df_0050['Return'] = (df_0050['Close'].pct_change().shift(1)) * (1 - 0.000035)\n",
    "# df_0050['SimpleReturn'] = df_0050['Return'].cumsum()"
   ]
  },
  {
   "cell_type": "code",
   "execution_count": 182,
   "id": "8c9fe1a7",
   "metadata": {},
   "outputs": [
    {
     "data": {
      "application/vnd.plotly.v1+json": {
       "config": {
        "plotlyServerURL": "https://plot.ly"
       },
       "data": [
        {
         "hovertemplate": "Date=%{x}<br>y=%{y}<extra></extra>",
         "legendgroup": "",
         "marker": {
          "color": "#636efa",
          "size": 10,
          "symbol": "line-ns-open"
         },
         "mode": "markers",
         "name": "",
         "showlegend": false,
         "type": "scattergl",
         "x": [
          "2009-01-16T00:00:00.000000000",
          "2009-01-17T00:00:00.000000000",
          "2009-01-19T00:00:00.000000000",
          "2009-01-20T00:00:00.000000000",
          "2009-01-21T00:00:00.000000000",
          "2009-02-02T00:00:00.000000000",
          "2009-02-03T00:00:00.000000000",
          "2009-02-04T00:00:00.000000000",
          "2009-02-05T00:00:00.000000000",
          "2009-02-06T00:00:00.000000000",
          "2009-02-09T00:00:00.000000000",
          "2009-02-10T00:00:00.000000000",
          "2009-02-11T00:00:00.000000000",
          "2009-02-12T00:00:00.000000000",
          "2009-02-13T00:00:00.000000000",
          "2009-02-16T00:00:00.000000000",
          "2009-02-17T00:00:00.000000000",
          "2009-02-18T00:00:00.000000000",
          "2009-02-19T00:00:00.000000000",
          "2009-02-20T00:00:00.000000000",
          "2009-02-23T00:00:00.000000000",
          "2009-02-24T00:00:00.000000000",
          "2009-02-25T00:00:00.000000000",
          "2009-02-26T00:00:00.000000000",
          "2009-02-27T00:00:00.000000000",
          "2009-03-02T00:00:00.000000000",
          "2009-03-03T00:00:00.000000000",
          "2009-03-04T00:00:00.000000000",
          "2009-03-05T00:00:00.000000000",
          "2009-03-06T00:00:00.000000000",
          "2009-03-09T00:00:00.000000000",
          "2009-03-10T00:00:00.000000000",
          "2009-03-11T00:00:00.000000000",
          "2009-03-12T00:00:00.000000000",
          "2009-03-13T00:00:00.000000000",
          "2009-03-16T00:00:00.000000000",
          "2009-03-17T00:00:00.000000000",
          "2009-03-18T00:00:00.000000000",
          "2009-03-19T00:00:00.000000000",
          "2009-03-20T00:00:00.000000000",
          "2009-03-23T00:00:00.000000000",
          "2009-03-24T00:00:00.000000000",
          "2009-04-29T00:00:00.000000000",
          "2009-04-30T00:00:00.000000000",
          "2009-05-04T00:00:00.000000000",
          "2009-05-05T00:00:00.000000000",
          "2009-06-10T00:00:00.000000000",
          "2009-06-11T00:00:00.000000000",
          "2009-06-12T00:00:00.000000000",
          "2009-06-15T00:00:00.000000000",
          "2009-06-16T00:00:00.000000000",
          "2009-06-17T00:00:00.000000000",
          "2009-06-18T00:00:00.000000000",
          "2009-06-19T00:00:00.000000000",
          "2009-06-22T00:00:00.000000000",
          "2009-06-23T00:00:00.000000000",
          "2009-06-24T00:00:00.000000000",
          "2009-06-25T00:00:00.000000000",
          "2009-06-26T00:00:00.000000000",
          "2009-06-29T00:00:00.000000000",
          "2009-06-30T00:00:00.000000000",
          "2009-07-01T00:00:00.000000000",
          "2009-07-02T00:00:00.000000000",
          "2009-07-03T00:00:00.000000000",
          "2009-07-06T00:00:00.000000000",
          "2009-07-07T00:00:00.000000000",
          "2009-07-08T00:00:00.000000000",
          "2009-07-09T00:00:00.000000000",
          "2009-07-10T00:00:00.000000000",
          "2009-07-13T00:00:00.000000000",
          "2009-07-14T00:00:00.000000000",
          "2009-07-15T00:00:00.000000000",
          "2009-07-16T00:00:00.000000000",
          "2009-07-17T00:00:00.000000000",
          "2009-07-20T00:00:00.000000000",
          "2009-07-21T00:00:00.000000000",
          "2009-07-22T00:00:00.000000000",
          "2009-07-23T00:00:00.000000000",
          "2009-07-24T00:00:00.000000000",
          "2009-07-27T00:00:00.000000000",
          "2009-07-28T00:00:00.000000000",
          "2009-07-29T00:00:00.000000000",
          "2009-07-30T00:00:00.000000000",
          "2009-07-31T00:00:00.000000000",
          "2009-08-03T00:00:00.000000000",
          "2009-08-04T00:00:00.000000000",
          "2009-08-05T00:00:00.000000000",
          "2009-08-06T00:00:00.000000000",
          "2009-08-10T00:00:00.000000000",
          "2009-08-11T00:00:00.000000000",
          "2009-08-12T00:00:00.000000000",
          "2009-08-13T00:00:00.000000000",
          "2009-08-14T00:00:00.000000000",
          "2009-08-17T00:00:00.000000000",
          "2009-08-18T00:00:00.000000000",
          "2009-08-19T00:00:00.000000000",
          "2009-08-20T00:00:00.000000000",
          "2009-08-21T00:00:00.000000000",
          "2009-08-24T00:00:00.000000000",
          "2009-08-25T00:00:00.000000000",
          "2009-08-26T00:00:00.000000000",
          "2009-08-27T00:00:00.000000000",
          "2009-08-28T00:00:00.000000000",
          "2009-08-31T00:00:00.000000000",
          "2009-09-01T00:00:00.000000000",
          "2009-09-02T00:00:00.000000000",
          "2009-09-03T00:00:00.000000000",
          "2009-09-04T00:00:00.000000000",
          "2009-09-07T00:00:00.000000000",
          "2009-09-08T00:00:00.000000000",
          "2009-10-29T00:00:00.000000000",
          "2009-10-30T00:00:00.000000000",
          "2009-11-02T00:00:00.000000000",
          "2009-11-03T00:00:00.000000000",
          "2009-11-04T00:00:00.000000000",
          "2009-11-05T00:00:00.000000000",
          "2009-11-06T00:00:00.000000000",
          "2009-11-09T00:00:00.000000000",
          "2009-11-10T00:00:00.000000000",
          "2009-11-11T00:00:00.000000000",
          "2009-11-12T00:00:00.000000000",
          "2009-11-30T00:00:00.000000000",
          "2009-12-01T00:00:00.000000000",
          "2009-12-02T00:00:00.000000000",
          "2009-12-03T00:00:00.000000000",
          "2009-12-04T00:00:00.000000000",
          "2009-12-07T00:00:00.000000000",
          "2009-12-08T00:00:00.000000000",
          "2009-12-09T00:00:00.000000000",
          "2009-12-10T00:00:00.000000000",
          "2009-12-11T00:00:00.000000000",
          "2009-12-14T00:00:00.000000000",
          "2009-12-15T00:00:00.000000000",
          "2009-12-16T00:00:00.000000000",
          "2009-12-17T00:00:00.000000000",
          "2009-12-18T00:00:00.000000000",
          "2009-12-21T00:00:00.000000000",
          "2009-12-22T00:00:00.000000000",
          "2009-12-23T00:00:00.000000000",
          "2009-12-24T00:00:00.000000000",
          "2009-12-25T00:00:00.000000000",
          "2009-12-28T00:00:00.000000000",
          "2009-12-29T00:00:00.000000000",
          "2009-12-30T00:00:00.000000000",
          "2009-12-31T00:00:00.000000000",
          "2010-01-04T00:00:00.000000000",
          "2010-01-25T00:00:00.000000000",
          "2010-01-26T00:00:00.000000000",
          "2010-01-27T00:00:00.000000000",
          "2010-01-28T00:00:00.000000000",
          "2010-01-29T00:00:00.000000000",
          "2010-02-01T00:00:00.000000000",
          "2010-02-02T00:00:00.000000000",
          "2010-02-03T00:00:00.000000000",
          "2010-02-04T00:00:00.000000000",
          "2010-02-05T00:00:00.000000000",
          "2010-02-06T00:00:00.000000000",
          "2010-02-08T00:00:00.000000000",
          "2010-02-09T00:00:00.000000000",
          "2010-02-10T00:00:00.000000000",
          "2010-02-22T00:00:00.000000000",
          "2010-02-23T00:00:00.000000000",
          "2010-02-24T00:00:00.000000000",
          "2010-02-25T00:00:00.000000000",
          "2010-02-26T00:00:00.000000000",
          "2010-03-01T00:00:00.000000000",
          "2010-03-02T00:00:00.000000000",
          "2010-03-03T00:00:00.000000000",
          "2010-03-04T00:00:00.000000000",
          "2010-03-05T00:00:00.000000000",
          "2010-03-08T00:00:00.000000000",
          "2010-03-09T00:00:00.000000000",
          "2010-05-06T00:00:00.000000000",
          "2010-05-07T00:00:00.000000000",
          "2010-05-10T00:00:00.000000000",
          "2010-05-11T00:00:00.000000000",
          "2010-05-12T00:00:00.000000000",
          "2010-05-13T00:00:00.000000000",
          "2010-05-14T00:00:00.000000000",
          "2010-05-17T00:00:00.000000000",
          "2010-05-18T00:00:00.000000000",
          "2010-05-19T00:00:00.000000000",
          "2010-05-20T00:00:00.000000000",
          "2010-05-21T00:00:00.000000000",
          "2010-05-24T00:00:00.000000000",
          "2010-05-25T00:00:00.000000000",
          "2010-05-26T00:00:00.000000000",
          "2010-05-27T00:00:00.000000000",
          "2010-05-28T00:00:00.000000000",
          "2010-05-31T00:00:00.000000000",
          "2010-06-01T00:00:00.000000000",
          "2010-06-02T00:00:00.000000000",
          "2010-06-03T00:00:00.000000000",
          "2010-06-04T00:00:00.000000000",
          "2010-06-30T00:00:00.000000000",
          "2010-07-01T00:00:00.000000000",
          "2010-07-02T00:00:00.000000000",
          "2010-07-05T00:00:00.000000000",
          "2010-07-06T00:00:00.000000000",
          "2010-07-07T00:00:00.000000000",
          "2010-07-08T00:00:00.000000000",
          "2010-07-09T00:00:00.000000000",
          "2010-07-12T00:00:00.000000000",
          "2010-07-13T00:00:00.000000000",
          "2010-07-14T00:00:00.000000000",
          "2010-07-15T00:00:00.000000000",
          "2010-08-26T00:00:00.000000000",
          "2010-08-27T00:00:00.000000000",
          "2010-08-30T00:00:00.000000000",
          "2010-08-31T00:00:00.000000000",
          "2010-09-01T00:00:00.000000000",
          "2010-09-02T00:00:00.000000000",
          "2010-09-03T00:00:00.000000000",
          "2010-09-06T00:00:00.000000000",
          "2010-09-07T00:00:00.000000000",
          "2010-09-08T00:00:00.000000000",
          "2010-09-09T00:00:00.000000000",
          "2010-09-10T00:00:00.000000000",
          "2010-09-13T00:00:00.000000000",
          "2010-09-14T00:00:00.000000000",
          "2010-10-12T00:00:00.000000000",
          "2010-10-14T00:00:00.000000000",
          "2010-10-15T00:00:00.000000000",
          "2010-10-18T00:00:00.000000000",
          "2010-10-19T00:00:00.000000000",
          "2010-10-20T00:00:00.000000000",
          "2010-10-21T00:00:00.000000000",
          "2010-10-22T00:00:00.000000000",
          "2010-10-25T00:00:00.000000000",
          "2010-10-26T00:00:00.000000000",
          "2011-06-17T00:00:00.000000000",
          "2011-06-20T00:00:00.000000000",
          "2011-06-21T00:00:00.000000000",
          "2011-06-22T00:00:00.000000000",
          "2011-06-23T00:00:00.000000000",
          "2011-06-24T00:00:00.000000000",
          "2011-06-27T00:00:00.000000000",
          "2011-06-28T00:00:00.000000000",
          "2011-06-29T00:00:00.000000000",
          "2011-06-30T00:00:00.000000000",
          "2011-07-01T00:00:00.000000000",
          "2011-07-04T00:00:00.000000000",
          "2011-07-05T00:00:00.000000000",
          "2011-07-06T00:00:00.000000000",
          "2011-07-07T00:00:00.000000000",
          "2011-07-08T00:00:00.000000000",
          "2011-07-11T00:00:00.000000000",
          "2011-07-12T00:00:00.000000000",
          "2011-07-13T00:00:00.000000000",
          "2011-07-14T00:00:00.000000000",
          "2011-07-15T00:00:00.000000000",
          "2011-07-18T00:00:00.000000000",
          "2011-07-19T00:00:00.000000000",
          "2011-07-20T00:00:00.000000000",
          "2011-07-21T00:00:00.000000000",
          "2011-07-22T00:00:00.000000000",
          "2011-07-25T00:00:00.000000000",
          "2011-07-26T00:00:00.000000000",
          "2011-07-27T00:00:00.000000000",
          "2011-07-28T00:00:00.000000000",
          "2011-07-29T00:00:00.000000000",
          "2011-08-01T00:00:00.000000000",
          "2011-08-02T00:00:00.000000000",
          "2011-08-03T00:00:00.000000000",
          "2011-08-04T00:00:00.000000000",
          "2011-08-05T00:00:00.000000000",
          "2011-08-08T00:00:00.000000000",
          "2011-08-09T00:00:00.000000000",
          "2011-08-10T00:00:00.000000000",
          "2011-08-11T00:00:00.000000000",
          "2011-08-12T00:00:00.000000000",
          "2011-08-15T00:00:00.000000000",
          "2011-08-16T00:00:00.000000000",
          "2011-08-17T00:00:00.000000000",
          "2011-08-18T00:00:00.000000000",
          "2011-08-19T00:00:00.000000000",
          "2011-08-22T00:00:00.000000000",
          "2011-08-23T00:00:00.000000000",
          "2011-08-24T00:00:00.000000000",
          "2011-08-25T00:00:00.000000000",
          "2011-08-26T00:00:00.000000000",
          "2011-08-29T00:00:00.000000000",
          "2011-08-30T00:00:00.000000000",
          "2011-08-31T00:00:00.000000000",
          "2011-09-01T00:00:00.000000000",
          "2011-09-02T00:00:00.000000000",
          "2011-09-05T00:00:00.000000000",
          "2011-09-06T00:00:00.000000000",
          "2011-09-07T00:00:00.000000000",
          "2011-09-08T00:00:00.000000000",
          "2011-09-09T00:00:00.000000000",
          "2011-09-13T00:00:00.000000000",
          "2011-09-14T00:00:00.000000000",
          "2011-09-15T00:00:00.000000000",
          "2011-09-16T00:00:00.000000000",
          "2011-09-19T00:00:00.000000000",
          "2011-09-20T00:00:00.000000000",
          "2011-09-21T00:00:00.000000000",
          "2011-09-22T00:00:00.000000000",
          "2011-09-23T00:00:00.000000000",
          "2011-09-26T00:00:00.000000000",
          "2011-09-27T00:00:00.000000000",
          "2011-09-28T00:00:00.000000000",
          "2011-09-29T00:00:00.000000000",
          "2011-09-30T00:00:00.000000000",
          "2011-10-03T00:00:00.000000000",
          "2011-10-04T00:00:00.000000000",
          "2011-10-05T00:00:00.000000000",
          "2011-10-06T00:00:00.000000000",
          "2011-10-07T00:00:00.000000000",
          "2011-10-11T00:00:00.000000000",
          "2011-10-12T00:00:00.000000000",
          "2011-11-21T00:00:00.000000000",
          "2011-11-22T00:00:00.000000000",
          "2011-11-23T00:00:00.000000000",
          "2011-11-24T00:00:00.000000000",
          "2011-11-25T00:00:00.000000000",
          "2011-11-28T00:00:00.000000000",
          "2011-11-29T00:00:00.000000000",
          "2011-11-30T00:00:00.000000000",
          "2011-12-01T00:00:00.000000000",
          "2011-12-02T00:00:00.000000000",
          "2011-12-05T00:00:00.000000000",
          "2011-12-06T00:00:00.000000000",
          "2011-12-07T00:00:00.000000000",
          "2011-12-08T00:00:00.000000000",
          "2011-12-09T00:00:00.000000000",
          "2011-12-12T00:00:00.000000000",
          "2011-12-13T00:00:00.000000000",
          "2011-12-14T00:00:00.000000000",
          "2011-12-15T00:00:00.000000000",
          "2011-12-16T00:00:00.000000000",
          "2011-12-19T00:00:00.000000000",
          "2011-12-20T00:00:00.000000000",
          "2011-12-21T00:00:00.000000000",
          "2011-12-22T00:00:00.000000000",
          "2011-12-23T00:00:00.000000000",
          "2011-12-26T00:00:00.000000000",
          "2011-12-27T00:00:00.000000000",
          "2011-12-28T00:00:00.000000000",
          "2011-12-29T00:00:00.000000000",
          "2011-12-30T00:00:00.000000000",
          "2012-01-02T00:00:00.000000000",
          "2012-01-03T00:00:00.000000000",
          "2012-01-04T00:00:00.000000000",
          "2012-01-05T00:00:00.000000000",
          "2012-01-06T00:00:00.000000000",
          "2012-01-09T00:00:00.000000000",
          "2012-01-10T00:00:00.000000000",
          "2012-01-11T00:00:00.000000000",
          "2012-01-12T00:00:00.000000000",
          "2012-01-13T00:00:00.000000000",
          "2012-01-16T00:00:00.000000000",
          "2012-01-17T00:00:00.000000000",
          "2012-01-18T00:00:00.000000000",
          "2012-01-30T00:00:00.000000000",
          "2012-01-31T00:00:00.000000000",
          "2012-02-01T00:00:00.000000000",
          "2012-02-02T00:00:00.000000000",
          "2012-02-03T00:00:00.000000000",
          "2012-02-04T00:00:00.000000000",
          "2012-02-06T00:00:00.000000000",
          "2012-02-07T00:00:00.000000000",
          "2012-02-08T00:00:00.000000000",
          "2012-02-09T00:00:00.000000000",
          "2012-05-14T00:00:00.000000000",
          "2012-05-15T00:00:00.000000000",
          "2012-05-16T00:00:00.000000000",
          "2012-05-17T00:00:00.000000000",
          "2012-05-18T00:00:00.000000000",
          "2012-05-21T00:00:00.000000000",
          "2012-05-22T00:00:00.000000000",
          "2012-05-23T00:00:00.000000000",
          "2012-05-24T00:00:00.000000000",
          "2012-05-25T00:00:00.000000000",
          "2012-05-28T00:00:00.000000000",
          "2012-05-29T00:00:00.000000000",
          "2012-05-30T00:00:00.000000000",
          "2012-05-31T00:00:00.000000000",
          "2012-06-01T00:00:00.000000000",
          "2012-06-04T00:00:00.000000000",
          "2012-06-05T00:00:00.000000000",
          "2012-06-06T00:00:00.000000000",
          "2012-06-07T00:00:00.000000000",
          "2012-06-08T00:00:00.000000000",
          "2012-06-11T00:00:00.000000000",
          "2012-06-12T00:00:00.000000000",
          "2012-06-13T00:00:00.000000000",
          "2012-06-14T00:00:00.000000000",
          "2012-06-15T00:00:00.000000000",
          "2012-06-18T00:00:00.000000000",
          "2012-06-26T00:00:00.000000000",
          "2012-06-27T00:00:00.000000000",
          "2012-06-28T00:00:00.000000000",
          "2012-06-29T00:00:00.000000000",
          "2012-07-02T00:00:00.000000000",
          "2012-07-03T00:00:00.000000000",
          "2012-07-04T00:00:00.000000000",
          "2012-07-05T00:00:00.000000000",
          "2012-07-06T00:00:00.000000000",
          "2012-07-09T00:00:00.000000000",
          "2012-07-10T00:00:00.000000000",
          "2012-07-11T00:00:00.000000000",
          "2012-07-12T00:00:00.000000000",
          "2012-07-13T00:00:00.000000000",
          "2012-07-16T00:00:00.000000000",
          "2012-07-17T00:00:00.000000000",
          "2012-07-18T00:00:00.000000000",
          "2012-07-19T00:00:00.000000000",
          "2012-07-20T00:00:00.000000000",
          "2012-07-23T00:00:00.000000000",
          "2012-07-24T00:00:00.000000000",
          "2012-07-25T00:00:00.000000000",
          "2012-07-26T00:00:00.000000000",
          "2012-07-27T00:00:00.000000000",
          "2012-07-30T00:00:00.000000000",
          "2012-07-31T00:00:00.000000000",
          "2012-08-01T00:00:00.000000000",
          "2012-08-03T00:00:00.000000000",
          "2012-08-06T00:00:00.000000000",
          "2012-08-07T00:00:00.000000000",
          "2012-08-08T00:00:00.000000000",
          "2012-08-09T00:00:00.000000000",
          "2012-08-10T00:00:00.000000000",
          "2012-08-13T00:00:00.000000000",
          "2012-08-14T00:00:00.000000000",
          "2012-08-15T00:00:00.000000000",
          "2012-08-16T00:00:00.000000000",
          "2012-08-17T00:00:00.000000000",
          "2012-08-20T00:00:00.000000000",
          "2012-08-21T00:00:00.000000000",
          "2012-08-22T00:00:00.000000000",
          "2012-08-23T00:00:00.000000000",
          "2012-08-24T00:00:00.000000000",
          "2012-08-27T00:00:00.000000000",
          "2012-08-28T00:00:00.000000000",
          "2012-08-29T00:00:00.000000000",
          "2012-08-30T00:00:00.000000000",
          "2012-08-31T00:00:00.000000000",
          "2012-09-03T00:00:00.000000000",
          "2012-09-04T00:00:00.000000000",
          "2012-09-05T00:00:00.000000000",
          "2012-09-06T00:00:00.000000000",
          "2012-09-07T00:00:00.000000000",
          "2012-09-10T00:00:00.000000000",
          "2012-09-11T00:00:00.000000000",
          "2012-09-12T00:00:00.000000000",
          "2012-09-13T00:00:00.000000000",
          "2012-10-29T00:00:00.000000000",
          "2012-10-30T00:00:00.000000000",
          "2012-10-31T00:00:00.000000000",
          "2012-11-01T00:00:00.000000000",
          "2012-11-02T00:00:00.000000000",
          "2012-11-05T00:00:00.000000000",
          "2012-11-06T00:00:00.000000000",
          "2012-11-07T00:00:00.000000000",
          "2012-11-08T00:00:00.000000000",
          "2012-11-09T00:00:00.000000000",
          "2012-11-12T00:00:00.000000000",
          "2012-11-13T00:00:00.000000000",
          "2012-11-14T00:00:00.000000000",
          "2012-11-15T00:00:00.000000000",
          "2012-11-16T00:00:00.000000000",
          "2012-11-19T00:00:00.000000000",
          "2012-11-20T00:00:00.000000000",
          "2012-11-21T00:00:00.000000000",
          "2012-11-22T00:00:00.000000000",
          "2012-11-23T00:00:00.000000000",
          "2012-11-26T00:00:00.000000000",
          "2012-11-27T00:00:00.000000000",
          "2012-11-28T00:00:00.000000000",
          "2012-11-29T00:00:00.000000000",
          "2012-11-30T00:00:00.000000000",
          "2012-12-03T00:00:00.000000000",
          "2012-12-04T00:00:00.000000000",
          "2012-12-05T00:00:00.000000000",
          "2012-12-06T00:00:00.000000000",
          "2012-12-07T00:00:00.000000000",
          "2012-12-10T00:00:00.000000000",
          "2012-12-11T00:00:00.000000000",
          "2012-12-12T00:00:00.000000000",
          "2012-12-13T00:00:00.000000000",
          "2012-12-14T00:00:00.000000000",
          "2012-12-17T00:00:00.000000000",
          "2012-12-18T00:00:00.000000000",
          "2012-12-19T00:00:00.000000000",
          "2012-12-20T00:00:00.000000000",
          "2012-12-21T00:00:00.000000000",
          "2012-12-22T00:00:00.000000000",
          "2012-12-24T00:00:00.000000000",
          "2012-12-25T00:00:00.000000000",
          "2012-12-26T00:00:00.000000000",
          "2012-12-27T00:00:00.000000000",
          "2012-12-28T00:00:00.000000000",
          "2013-01-02T00:00:00.000000000",
          "2013-01-03T00:00:00.000000000",
          "2013-01-04T00:00:00.000000000",
          "2013-01-07T00:00:00.000000000",
          "2013-01-08T00:00:00.000000000",
          "2013-01-09T00:00:00.000000000",
          "2013-01-10T00:00:00.000000000",
          "2013-01-11T00:00:00.000000000",
          "2013-01-14T00:00:00.000000000",
          "2013-01-15T00:00:00.000000000",
          "2013-01-16T00:00:00.000000000",
          "2013-01-17T00:00:00.000000000",
          "2013-01-18T00:00:00.000000000",
          "2013-01-21T00:00:00.000000000",
          "2013-01-22T00:00:00.000000000",
          "2013-01-23T00:00:00.000000000",
          "2013-01-24T00:00:00.000000000",
          "2013-01-25T00:00:00.000000000",
          "2013-01-28T00:00:00.000000000",
          "2013-01-29T00:00:00.000000000",
          "2013-01-30T00:00:00.000000000",
          "2013-01-31T00:00:00.000000000",
          "2013-02-01T00:00:00.000000000",
          "2013-02-04T00:00:00.000000000",
          "2013-02-05T00:00:00.000000000",
          "2013-02-06T00:00:00.000000000",
          "2013-02-18T00:00:00.000000000",
          "2013-02-19T00:00:00.000000000",
          "2013-02-20T00:00:00.000000000",
          "2013-02-21T00:00:00.000000000",
          "2013-02-22T00:00:00.000000000",
          "2013-02-23T00:00:00.000000000",
          "2013-02-25T00:00:00.000000000",
          "2013-02-26T00:00:00.000000000",
          "2013-02-27T00:00:00.000000000",
          "2013-03-01T00:00:00.000000000",
          "2013-03-04T00:00:00.000000000",
          "2013-03-05T00:00:00.000000000",
          "2013-03-06T00:00:00.000000000",
          "2013-03-07T00:00:00.000000000",
          "2013-03-08T00:00:00.000000000",
          "2013-03-11T00:00:00.000000000",
          "2013-03-12T00:00:00.000000000",
          "2013-03-13T00:00:00.000000000",
          "2013-03-14T00:00:00.000000000",
          "2013-03-15T00:00:00.000000000",
          "2013-03-18T00:00:00.000000000",
          "2013-03-19T00:00:00.000000000",
          "2013-03-20T00:00:00.000000000",
          "2013-03-21T00:00:00.000000000",
          "2013-03-22T00:00:00.000000000",
          "2013-03-25T00:00:00.000000000",
          "2013-03-26T00:00:00.000000000",
          "2013-03-27T00:00:00.000000000",
          "2013-03-28T00:00:00.000000000",
          "2013-03-29T00:00:00.000000000",
          "2013-04-01T00:00:00.000000000",
          "2013-04-02T00:00:00.000000000",
          "2013-04-03T00:00:00.000000000",
          "2013-04-08T00:00:00.000000000",
          "2013-04-09T00:00:00.000000000",
          "2013-04-10T00:00:00.000000000",
          "2013-04-11T00:00:00.000000000",
          "2013-04-12T00:00:00.000000000",
          "2013-04-15T00:00:00.000000000",
          "2013-04-16T00:00:00.000000000",
          "2013-04-17T00:00:00.000000000",
          "2013-04-18T00:00:00.000000000",
          "2013-04-19T00:00:00.000000000",
          "2013-04-22T00:00:00.000000000",
          "2013-06-14T00:00:00.000000000",
          "2013-06-17T00:00:00.000000000",
          "2013-06-18T00:00:00.000000000",
          "2013-06-19T00:00:00.000000000",
          "2013-06-20T00:00:00.000000000",
          "2013-06-21T00:00:00.000000000",
          "2013-06-24T00:00:00.000000000",
          "2013-06-25T00:00:00.000000000",
          "2013-06-26T00:00:00.000000000",
          "2013-06-27T00:00:00.000000000",
          "2013-06-28T00:00:00.000000000",
          "2013-07-01T00:00:00.000000000",
          "2013-07-02T00:00:00.000000000",
          "2013-07-03T00:00:00.000000000",
          "2013-07-04T00:00:00.000000000",
          "2013-07-05T00:00:00.000000000",
          "2013-07-08T00:00:00.000000000",
          "2013-07-09T00:00:00.000000000",
          "2013-07-10T00:00:00.000000000",
          "2013-07-11T00:00:00.000000000",
          "2013-07-12T00:00:00.000000000",
          "2014-10-16T00:00:00.000000000",
          "2014-10-17T00:00:00.000000000",
          "2014-10-20T00:00:00.000000000",
          "2014-10-21T00:00:00.000000000",
          "2014-10-22T00:00:00.000000000",
          "2014-10-23T00:00:00.000000000",
          "2014-10-24T00:00:00.000000000",
          "2014-10-27T00:00:00.000000000",
          "2014-10-28T00:00:00.000000000",
          "2014-10-29T00:00:00.000000000",
          "2014-10-30T00:00:00.000000000",
          "2014-10-31T00:00:00.000000000",
          "2014-11-03T00:00:00.000000000",
          "2014-12-18T00:00:00.000000000",
          "2014-12-19T00:00:00.000000000",
          "2014-12-22T00:00:00.000000000",
          "2014-12-23T00:00:00.000000000",
          "2014-12-24T00:00:00.000000000",
          "2014-12-25T00:00:00.000000000",
          "2014-12-26T00:00:00.000000000",
          "2014-12-27T00:00:00.000000000",
          "2014-12-29T00:00:00.000000000",
          "2015-08-24T00:00:00.000000000",
          "2015-08-25T00:00:00.000000000",
          "2015-08-26T00:00:00.000000000",
          "2015-08-27T00:00:00.000000000",
          "2015-08-28T00:00:00.000000000",
          "2015-08-31T00:00:00.000000000",
          "2015-09-01T00:00:00.000000000",
          "2015-09-02T00:00:00.000000000",
          "2015-09-03T00:00:00.000000000",
          "2015-09-04T00:00:00.000000000",
          "2015-09-07T00:00:00.000000000",
          "2015-09-08T00:00:00.000000000",
          "2015-09-09T00:00:00.000000000",
          "2015-09-10T00:00:00.000000000",
          "2015-09-11T00:00:00.000000000",
          "2015-09-14T00:00:00.000000000",
          "2015-09-15T00:00:00.000000000",
          "2015-09-16T00:00:00.000000000",
          "2015-09-17T00:00:00.000000000",
          "2015-09-18T00:00:00.000000000",
          "2015-09-21T00:00:00.000000000",
          "2015-09-22T00:00:00.000000000",
          "2015-09-23T00:00:00.000000000",
          "2015-09-24T00:00:00.000000000",
          "2015-09-25T00:00:00.000000000",
          "2015-09-30T00:00:00.000000000",
          "2015-10-01T00:00:00.000000000",
          "2015-10-02T00:00:00.000000000",
          "2015-10-05T00:00:00.000000000",
          "2015-10-06T00:00:00.000000000",
          "2015-10-07T00:00:00.000000000",
          "2015-10-08T00:00:00.000000000",
          "2015-12-14T00:00:00.000000000",
          "2015-12-15T00:00:00.000000000",
          "2015-12-16T00:00:00.000000000",
          "2015-12-17T00:00:00.000000000",
          "2015-12-18T00:00:00.000000000",
          "2015-12-21T00:00:00.000000000",
          "2015-12-22T00:00:00.000000000",
          "2015-12-23T00:00:00.000000000",
          "2015-12-24T00:00:00.000000000",
          "2015-12-25T00:00:00.000000000",
          "2015-12-28T00:00:00.000000000",
          "2015-12-29T00:00:00.000000000",
          "2015-12-30T00:00:00.000000000",
          "2015-12-31T00:00:00.000000000",
          "2016-01-04T00:00:00.000000000",
          "2016-01-05T00:00:00.000000000",
          "2016-01-06T00:00:00.000000000",
          "2016-01-07T00:00:00.000000000",
          "2016-01-08T00:00:00.000000000",
          "2016-01-11T00:00:00.000000000",
          "2016-01-12T00:00:00.000000000",
          "2016-01-13T00:00:00.000000000",
          "2016-01-14T00:00:00.000000000",
          "2016-01-15T00:00:00.000000000",
          "2016-01-18T00:00:00.000000000",
          "2016-01-19T00:00:00.000000000",
          "2016-01-20T00:00:00.000000000",
          "2016-01-21T00:00:00.000000000",
          "2016-01-22T00:00:00.000000000",
          "2016-01-25T00:00:00.000000000",
          "2016-01-26T00:00:00.000000000",
          "2016-01-27T00:00:00.000000000",
          "2016-01-28T00:00:00.000000000",
          "2016-01-29T00:00:00.000000000",
          "2016-01-30T00:00:00.000000000",
          "2016-02-01T00:00:00.000000000",
          "2016-11-04T00:00:00.000000000",
          "2016-11-07T00:00:00.000000000",
          "2016-11-08T00:00:00.000000000",
          "2016-11-09T00:00:00.000000000",
          "2016-11-10T00:00:00.000000000",
          "2016-11-11T00:00:00.000000000",
          "2016-11-14T00:00:00.000000000",
          "2016-11-15T00:00:00.000000000",
          "2016-11-16T00:00:00.000000000",
          "2016-11-17T00:00:00.000000000",
          "2016-11-18T00:00:00.000000000",
          "2016-11-21T00:00:00.000000000",
          "2016-11-22T00:00:00.000000000",
          "2016-11-23T00:00:00.000000000",
          "2016-11-24T00:00:00.000000000",
          "2016-11-25T00:00:00.000000000",
          "2016-11-28T00:00:00.000000000",
          "2016-11-29T00:00:00.000000000",
          "2016-11-30T00:00:00.000000000",
          "2016-12-01T00:00:00.000000000",
          "2016-12-02T00:00:00.000000000",
          "2016-12-05T00:00:00.000000000",
          "2016-12-06T00:00:00.000000000",
          "2016-12-07T00:00:00.000000000",
          "2016-12-08T00:00:00.000000000",
          "2016-12-09T00:00:00.000000000",
          "2016-12-12T00:00:00.000000000",
          "2016-12-13T00:00:00.000000000",
          "2016-12-14T00:00:00.000000000",
          "2016-12-15T00:00:00.000000000",
          "2016-12-16T00:00:00.000000000",
          "2016-12-19T00:00:00.000000000",
          "2016-12-20T00:00:00.000000000",
          "2016-12-21T00:00:00.000000000",
          "2016-12-22T00:00:00.000000000",
          "2016-12-23T00:00:00.000000000",
          "2016-12-26T00:00:00.000000000",
          "2016-12-27T00:00:00.000000000",
          "2016-12-28T00:00:00.000000000",
          "2016-12-29T00:00:00.000000000",
          "2016-12-30T00:00:00.000000000",
          "2017-01-03T00:00:00.000000000",
          "2017-01-04T00:00:00.000000000",
          "2018-03-26T00:00:00.000000000",
          "2018-03-27T00:00:00.000000000",
          "2018-03-28T00:00:00.000000000",
          "2018-03-29T00:00:00.000000000",
          "2018-03-30T00:00:00.000000000",
          "2018-03-31T00:00:00.000000000",
          "2018-04-02T00:00:00.000000000",
          "2018-04-03T00:00:00.000000000",
          "2018-04-09T00:00:00.000000000",
          "2018-04-10T00:00:00.000000000",
          "2018-04-11T00:00:00.000000000",
          "2018-04-12T00:00:00.000000000",
          "2018-04-13T00:00:00.000000000",
          "2018-04-16T00:00:00.000000000",
          "2018-04-17T00:00:00.000000000",
          "2018-04-18T00:00:00.000000000",
          "2018-04-19T00:00:00.000000000",
          "2018-04-20T00:00:00.000000000",
          "2018-04-23T00:00:00.000000000",
          "2018-04-24T00:00:00.000000000",
          "2018-04-25T00:00:00.000000000",
          "2018-04-26T00:00:00.000000000",
          "2018-04-27T00:00:00.000000000",
          "2018-04-30T00:00:00.000000000",
          "2018-05-02T00:00:00.000000000",
          "2018-05-03T00:00:00.000000000",
          "2018-05-04T00:00:00.000000000",
          "2018-05-07T00:00:00.000000000",
          "2018-05-08T00:00:00.000000000",
          "2018-05-09T00:00:00.000000000",
          "2018-05-10T00:00:00.000000000",
          "2018-05-11T00:00:00.000000000",
          "2018-05-14T00:00:00.000000000",
          "2018-05-15T00:00:00.000000000",
          "2018-05-16T00:00:00.000000000",
          "2018-05-17T00:00:00.000000000",
          "2018-05-18T00:00:00.000000000",
          "2018-05-21T00:00:00.000000000",
          "2018-05-22T00:00:00.000000000",
          "2018-10-12T00:00:00.000000000",
          "2018-10-15T00:00:00.000000000",
          "2018-10-16T00:00:00.000000000",
          "2018-10-17T00:00:00.000000000",
          "2018-10-18T00:00:00.000000000",
          "2018-10-19T00:00:00.000000000",
          "2018-10-22T00:00:00.000000000",
          "2018-10-23T00:00:00.000000000",
          "2018-10-24T00:00:00.000000000",
          "2018-10-25T00:00:00.000000000",
          "2018-10-26T00:00:00.000000000",
          "2018-10-29T00:00:00.000000000",
          "2018-10-30T00:00:00.000000000",
          "2018-10-31T00:00:00.000000000",
          "2018-11-01T00:00:00.000000000",
          "2018-11-02T00:00:00.000000000",
          "2018-11-05T00:00:00.000000000",
          "2018-11-06T00:00:00.000000000",
          "2018-11-07T00:00:00.000000000",
          "2018-11-08T00:00:00.000000000",
          "2018-11-09T00:00:00.000000000",
          "2018-11-12T00:00:00.000000000",
          "2018-11-13T00:00:00.000000000",
          "2018-11-14T00:00:00.000000000",
          "2018-11-15T00:00:00.000000000",
          "2018-11-16T00:00:00.000000000",
          "2018-11-19T00:00:00.000000000",
          "2018-11-20T00:00:00.000000000",
          "2018-11-21T00:00:00.000000000",
          "2018-11-22T00:00:00.000000000",
          "2018-11-23T00:00:00.000000000",
          "2018-11-26T00:00:00.000000000",
          "2018-11-27T00:00:00.000000000",
          "2018-11-28T00:00:00.000000000",
          "2018-11-29T00:00:00.000000000",
          "2018-11-30T00:00:00.000000000",
          "2018-12-03T00:00:00.000000000",
          "2018-12-04T00:00:00.000000000",
          "2018-12-05T00:00:00.000000000",
          "2018-12-06T00:00:00.000000000",
          "2018-12-07T00:00:00.000000000",
          "2018-12-10T00:00:00.000000000",
          "2018-12-11T00:00:00.000000000",
          "2018-12-12T00:00:00.000000000",
          "2018-12-13T00:00:00.000000000",
          "2018-12-14T00:00:00.000000000",
          "2018-12-17T00:00:00.000000000",
          "2018-12-18T00:00:00.000000000",
          "2018-12-19T00:00:00.000000000",
          "2018-12-20T00:00:00.000000000",
          "2018-12-21T00:00:00.000000000",
          "2018-12-22T00:00:00.000000000",
          "2018-12-24T00:00:00.000000000",
          "2018-12-25T00:00:00.000000000",
          "2018-12-26T00:00:00.000000000",
          "2018-12-27T00:00:00.000000000",
          "2018-12-28T00:00:00.000000000",
          "2019-01-02T00:00:00.000000000",
          "2019-01-03T00:00:00.000000000",
          "2019-01-04T00:00:00.000000000",
          "2019-01-07T00:00:00.000000000",
          "2019-01-08T00:00:00.000000000",
          "2019-01-09T00:00:00.000000000",
          "2019-01-10T00:00:00.000000000",
          "2019-01-11T00:00:00.000000000",
          "2019-01-14T00:00:00.000000000",
          "2019-01-15T00:00:00.000000000",
          "2019-01-16T00:00:00.000000000",
          "2019-01-17T00:00:00.000000000",
          "2019-01-18T00:00:00.000000000",
          "2019-01-21T00:00:00.000000000",
          "2019-01-22T00:00:00.000000000",
          "2019-01-23T00:00:00.000000000",
          "2019-01-24T00:00:00.000000000",
          "2019-01-25T00:00:00.000000000",
          "2019-01-28T00:00:00.000000000",
          "2019-01-29T00:00:00.000000000",
          "2019-01-30T00:00:00.000000000",
          "2019-02-11T00:00:00.000000000",
          "2019-02-12T00:00:00.000000000",
          "2019-02-13T00:00:00.000000000",
          "2019-02-14T00:00:00.000000000",
          "2019-02-15T00:00:00.000000000",
          "2019-02-18T00:00:00.000000000",
          "2019-02-19T00:00:00.000000000",
          "2019-02-20T00:00:00.000000000",
          "2019-02-21T00:00:00.000000000",
          "2019-02-22T00:00:00.000000000",
          "2019-05-14T00:00:00.000000000",
          "2019-05-15T00:00:00.000000000",
          "2019-05-16T00:00:00.000000000",
          "2019-05-17T00:00:00.000000000",
          "2019-05-20T00:00:00.000000000",
          "2019-05-21T00:00:00.000000000",
          "2019-05-22T00:00:00.000000000",
          "2019-05-23T00:00:00.000000000",
          "2019-05-24T00:00:00.000000000",
          "2019-05-27T00:00:00.000000000",
          "2019-05-28T00:00:00.000000000",
          "2019-05-29T00:00:00.000000000",
          "2019-05-30T00:00:00.000000000",
          "2019-05-31T00:00:00.000000000",
          "2019-06-03T00:00:00.000000000",
          "2019-06-04T00:00:00.000000000",
          "2019-06-05T00:00:00.000000000",
          "2019-06-06T00:00:00.000000000",
          "2019-06-10T00:00:00.000000000",
          "2019-06-11T00:00:00.000000000",
          "2019-06-12T00:00:00.000000000",
          "2019-06-13T00:00:00.000000000",
          "2019-06-14T00:00:00.000000000",
          "2019-06-17T00:00:00.000000000",
          "2019-06-18T00:00:00.000000000",
          "2019-06-19T00:00:00.000000000",
          "2019-06-20T00:00:00.000000000",
          "2019-06-21T00:00:00.000000000",
          "2019-06-24T00:00:00.000000000",
          "2019-06-25T00:00:00.000000000",
          "2019-06-26T00:00:00.000000000",
          "2019-06-27T00:00:00.000000000",
          "2019-06-28T00:00:00.000000000",
          "2019-07-01T00:00:00.000000000",
          "2019-07-02T00:00:00.000000000",
          "2019-07-03T00:00:00.000000000",
          "2019-07-04T00:00:00.000000000",
          "2019-07-05T00:00:00.000000000",
          "2019-07-08T00:00:00.000000000",
          "2019-07-09T00:00:00.000000000",
          "2019-07-10T00:00:00.000000000",
          "2019-07-11T00:00:00.000000000",
          "2019-07-12T00:00:00.000000000",
          "2019-07-15T00:00:00.000000000",
          "2019-07-16T00:00:00.000000000",
          "2019-07-17T00:00:00.000000000",
          "2019-07-18T00:00:00.000000000",
          "2019-07-19T00:00:00.000000000",
          "2019-07-22T00:00:00.000000000",
          "2019-07-23T00:00:00.000000000",
          "2019-07-24T00:00:00.000000000",
          "2019-07-25T00:00:00.000000000",
          "2019-07-26T00:00:00.000000000",
          "2019-07-29T00:00:00.000000000",
          "2019-07-30T00:00:00.000000000",
          "2019-07-31T00:00:00.000000000",
          "2019-08-01T00:00:00.000000000",
          "2019-08-02T00:00:00.000000000",
          "2019-08-05T00:00:00.000000000",
          "2019-08-06T00:00:00.000000000",
          "2019-08-07T00:00:00.000000000",
          "2019-08-08T00:00:00.000000000",
          "2019-08-12T00:00:00.000000000",
          "2019-08-13T00:00:00.000000000",
          "2019-08-14T00:00:00.000000000",
          "2019-08-15T00:00:00.000000000",
          "2019-08-16T00:00:00.000000000",
          "2019-08-19T00:00:00.000000000",
          "2019-08-20T00:00:00.000000000",
          "2019-08-21T00:00:00.000000000",
          "2020-03-18T00:00:00.000000000",
          "2020-03-19T00:00:00.000000000",
          "2020-03-20T00:00:00.000000000",
          "2020-03-23T00:00:00.000000000",
          "2020-03-24T00:00:00.000000000",
          "2020-03-25T00:00:00.000000000",
          "2020-03-26T00:00:00.000000000",
          "2020-03-27T00:00:00.000000000",
          "2020-03-30T00:00:00.000000000",
          "2020-03-31T00:00:00.000000000",
          "2020-04-01T00:00:00.000000000",
          "2020-04-06T00:00:00.000000000",
          "2020-04-07T00:00:00.000000000",
          "2020-04-08T00:00:00.000000000",
          "2020-04-09T00:00:00.000000000",
          "2020-09-25T00:00:00.000000000",
          "2020-09-28T00:00:00.000000000",
          "2020-09-29T00:00:00.000000000",
          "2020-09-30T00:00:00.000000000",
          "2020-10-05T00:00:00.000000000",
          "2020-10-06T00:00:00.000000000",
          "2020-10-07T00:00:00.000000000",
          "2020-10-08T00:00:00.000000000",
          "2020-11-02T00:00:00.000000000",
          "2020-11-03T00:00:00.000000000",
          "2020-11-04T00:00:00.000000000",
          "2020-11-05T00:00:00.000000000",
          "2020-11-06T00:00:00.000000000",
          "2020-11-09T00:00:00.000000000",
          "2020-11-10T00:00:00.000000000",
          "2020-11-11T00:00:00.000000000",
          "2020-11-12T00:00:00.000000000",
          "2020-11-13T00:00:00.000000000",
          "2020-11-16T00:00:00.000000000",
          "2020-11-17T00:00:00.000000000",
          "2021-02-01T00:00:00.000000000",
          "2021-02-02T00:00:00.000000000",
          "2021-02-03T00:00:00.000000000",
          "2021-02-04T00:00:00.000000000",
          "2021-02-05T00:00:00.000000000",
          "2021-02-17T00:00:00.000000000",
          "2021-02-18T00:00:00.000000000",
          "2021-02-19T00:00:00.000000000",
          "2021-02-22T00:00:00.000000000",
          "2021-02-23T00:00:00.000000000",
          "2021-02-24T00:00:00.000000000",
          "2021-02-25T00:00:00.000000000",
          "2021-02-26T00:00:00.000000000",
          "2021-03-02T00:00:00.000000000",
          "2021-03-03T00:00:00.000000000",
          "2021-03-04T00:00:00.000000000",
          "2021-03-05T00:00:00.000000000",
          "2021-03-08T00:00:00.000000000",
          "2021-03-09T00:00:00.000000000",
          "2021-03-10T00:00:00.000000000",
          "2021-03-11T00:00:00.000000000",
          "2021-03-12T00:00:00.000000000",
          "2021-03-15T00:00:00.000000000",
          "2021-03-16T00:00:00.000000000",
          "2021-03-17T00:00:00.000000000",
          "2021-03-18T00:00:00.000000000",
          "2021-03-19T00:00:00.000000000",
          "2021-03-22T00:00:00.000000000",
          "2021-03-23T00:00:00.000000000",
          "2021-03-24T00:00:00.000000000",
          "2021-03-25T00:00:00.000000000",
          "2021-03-26T00:00:00.000000000",
          "2021-03-29T00:00:00.000000000",
          "2021-03-30T00:00:00.000000000",
          "2021-03-31T00:00:00.000000000",
          "2021-04-01T00:00:00.000000000",
          "2021-04-06T00:00:00.000000000",
          "2021-04-07T00:00:00.000000000",
          "2021-04-08T00:00:00.000000000",
          "2021-04-09T00:00:00.000000000",
          "2021-08-23T00:00:00.000000000",
          "2021-08-24T00:00:00.000000000",
          "2021-08-25T00:00:00.000000000",
          "2021-08-26T00:00:00.000000000",
          "2021-08-27T00:00:00.000000000",
          "2021-08-30T00:00:00.000000000",
          "2021-08-31T00:00:00.000000000",
          "2021-09-01T00:00:00.000000000",
          "2021-10-05T00:00:00.000000000",
          "2021-10-06T00:00:00.000000000",
          "2021-10-07T00:00:00.000000000",
          "2021-10-08T00:00:00.000000000",
          "2021-10-12T00:00:00.000000000",
          "2021-10-13T00:00:00.000000000",
          "2021-10-14T00:00:00.000000000",
          "2021-10-15T00:00:00.000000000",
          "2021-10-18T00:00:00.000000000",
          "2021-10-19T00:00:00.000000000",
          "2021-10-20T00:00:00.000000000",
          "2021-10-21T00:00:00.000000000",
          "2021-10-22T00:00:00.000000000",
          "2021-10-24T00:00:00.000000000",
          "2021-10-25T00:00:00.000000000",
          "2021-10-26T00:00:00.000000000",
          "2021-10-27T00:00:00.000000000",
          "2021-10-28T00:00:00.000000000",
          "2021-10-29T00:00:00.000000000",
          "2021-11-01T00:00:00.000000000",
          "2021-11-02T00:00:00.000000000",
          "2021-11-03T00:00:00.000000000",
          "2021-11-04T00:00:00.000000000",
          "2021-11-05T00:00:00.000000000",
          "2021-11-08T00:00:00.000000000",
          "2021-11-09T00:00:00.000000000",
          "2022-02-07T00:00:00.000000000",
          "2022-02-08T00:00:00.000000000",
          "2022-02-09T00:00:00.000000000",
          "2022-02-10T00:00:00.000000000",
          "2022-02-11T00:00:00.000000000",
          "2022-02-14T00:00:00.000000000",
          "2022-02-15T00:00:00.000000000",
          "2022-02-16T00:00:00.000000000",
          "2022-02-17T00:00:00.000000000",
          "2022-02-18T00:00:00.000000000",
          "2022-02-21T00:00:00.000000000",
          "2022-02-22T00:00:00.000000000",
          "2022-02-23T00:00:00.000000000",
          "2022-02-24T00:00:00.000000000",
          "2022-02-25T00:00:00.000000000",
          "2022-03-01T00:00:00.000000000",
          "2022-03-02T00:00:00.000000000",
          "2022-03-03T00:00:00.000000000",
          "2022-03-04T00:00:00.000000000",
          "2022-03-07T00:00:00.000000000",
          "2022-03-08T00:00:00.000000000",
          "2022-03-09T00:00:00.000000000",
          "2022-03-10T00:00:00.000000000",
          "2022-03-11T00:00:00.000000000",
          "2022-03-14T00:00:00.000000000",
          "2022-03-15T00:00:00.000000000",
          "2022-03-16T00:00:00.000000000",
          "2022-03-17T00:00:00.000000000",
          "2022-03-18T00:00:00.000000000",
          "2022-03-21T00:00:00.000000000",
          "2022-03-22T00:00:00.000000000",
          "2022-03-23T00:00:00.000000000",
          "2022-03-24T00:00:00.000000000",
          "2022-03-25T00:00:00.000000000",
          "2022-03-28T00:00:00.000000000",
          "2022-03-29T00:00:00.000000000",
          "2022-03-30T00:00:00.000000000",
          "2022-03-31T00:00:00.000000000",
          "2022-04-01T00:00:00.000000000",
          "2022-04-06T00:00:00.000000000",
          "2022-04-07T00:00:00.000000000",
          "2022-04-08T00:00:00.000000000",
          "2022-04-11T00:00:00.000000000",
          "2022-04-12T00:00:00.000000000",
          "2022-04-13T00:00:00.000000000",
          "2022-04-14T00:00:00.000000000",
          "2022-04-15T00:00:00.000000000",
          "2022-04-18T00:00:00.000000000",
          "2022-04-19T00:00:00.000000000",
          "2022-04-20T00:00:00.000000000",
          "2022-04-21T00:00:00.000000000",
          "2022-04-22T00:00:00.000000000",
          "2022-04-25T00:00:00.000000000",
          "2022-04-26T00:00:00.000000000",
          "2022-04-27T00:00:00.000000000",
          "2022-04-28T00:00:00.000000000",
          "2022-04-29T00:00:00.000000000",
          "2022-05-03T00:00:00.000000000",
          "2022-05-04T00:00:00.000000000",
          "2022-05-05T00:00:00.000000000",
          "2022-05-06T00:00:00.000000000",
          "2022-05-09T00:00:00.000000000",
          "2022-05-10T00:00:00.000000000",
          "2022-05-11T00:00:00.000000000",
          "2022-05-12T00:00:00.000000000",
          "2022-05-13T00:00:00.000000000",
          "2022-05-16T00:00:00.000000000",
          "2022-05-17T00:00:00.000000000",
          "2022-05-18T00:00:00.000000000",
          "2022-05-19T00:00:00.000000000",
          "2022-05-20T00:00:00.000000000",
          "2022-05-23T00:00:00.000000000",
          "2022-05-24T00:00:00.000000000",
          "2022-05-25T00:00:00.000000000",
          "2022-05-26T00:00:00.000000000",
          "2022-05-27T00:00:00.000000000",
          "2022-05-30T00:00:00.000000000",
          "2022-05-31T00:00:00.000000000",
          "2022-06-01T00:00:00.000000000",
          "2022-06-02T00:00:00.000000000",
          "2022-06-06T00:00:00.000000000",
          "2022-06-07T00:00:00.000000000",
          "2022-06-08T00:00:00.000000000",
          "2022-06-09T00:00:00.000000000",
          "2022-06-10T00:00:00.000000000",
          "2022-06-13T00:00:00.000000000",
          "2022-06-14T00:00:00.000000000",
          "2022-06-15T00:00:00.000000000",
          "2022-06-16T00:00:00.000000000",
          "2022-06-17T00:00:00.000000000",
          "2022-06-20T00:00:00.000000000",
          "2022-06-21T00:00:00.000000000",
          "2022-06-22T00:00:00.000000000",
          "2022-06-23T00:00:00.000000000",
          "2022-06-24T00:00:00.000000000",
          "2022-06-27T00:00:00.000000000",
          "2022-06-28T00:00:00.000000000",
          "2022-06-29T00:00:00.000000000",
          "2022-06-30T00:00:00.000000000",
          "2022-07-01T00:00:00.000000000",
          "2022-07-04T00:00:00.000000000",
          "2022-07-05T00:00:00.000000000",
          "2022-07-06T00:00:00.000000000",
          "2022-07-07T00:00:00.000000000",
          "2022-07-08T00:00:00.000000000",
          "2022-07-11T00:00:00.000000000",
          "2022-07-12T00:00:00.000000000",
          "2022-07-13T00:00:00.000000000",
          "2022-07-14T00:00:00.000000000",
          "2022-07-15T00:00:00.000000000",
          "2022-07-18T00:00:00.000000000",
          "2022-07-19T00:00:00.000000000",
          "2022-07-20T00:00:00.000000000",
          "2022-07-21T00:00:00.000000000",
          "2022-07-22T00:00:00.000000000",
          "2022-07-25T00:00:00.000000000",
          "2022-07-26T00:00:00.000000000",
          "2022-07-27T00:00:00.000000000",
          "2022-07-28T00:00:00.000000000",
          "2022-07-29T00:00:00.000000000",
          "2022-08-01T00:00:00.000000000",
          "2022-08-02T00:00:00.000000000",
          "2022-08-03T00:00:00.000000000",
          "2022-08-04T00:00:00.000000000",
          "2022-08-05T00:00:00.000000000",
          "2022-08-08T00:00:00.000000000",
          "2022-08-09T00:00:00.000000000",
          "2022-08-10T00:00:00.000000000",
          "2022-08-11T00:00:00.000000000",
          "2022-08-12T00:00:00.000000000",
          "2022-08-15T00:00:00.000000000",
          "2022-08-16T00:00:00.000000000",
          "2022-08-17T00:00:00.000000000",
          "2022-08-18T00:00:00.000000000",
          "2022-08-19T00:00:00.000000000",
          "2022-08-22T00:00:00.000000000",
          "2022-08-23T00:00:00.000000000",
          "2022-08-24T00:00:00.000000000",
          "2022-08-25T00:00:00.000000000",
          "2022-08-26T00:00:00.000000000",
          "2022-08-29T00:00:00.000000000",
          "2022-08-30T00:00:00.000000000",
          "2022-08-31T00:00:00.000000000",
          "2022-09-01T00:00:00.000000000",
          "2022-09-02T00:00:00.000000000",
          "2022-09-05T00:00:00.000000000",
          "2022-09-06T00:00:00.000000000",
          "2022-09-07T00:00:00.000000000",
          "2022-09-08T00:00:00.000000000",
          "2022-09-12T00:00:00.000000000",
          "2022-09-13T00:00:00.000000000",
          "2022-09-14T00:00:00.000000000",
          "2022-09-15T00:00:00.000000000",
          "2022-09-16T00:00:00.000000000",
          "2022-09-19T00:00:00.000000000",
          "2022-09-20T00:00:00.000000000",
          "2022-09-21T00:00:00.000000000",
          "2022-09-22T00:00:00.000000000",
          "2022-09-23T00:00:00.000000000",
          "2022-09-26T00:00:00.000000000",
          "2022-09-27T00:00:00.000000000",
          "2022-09-28T00:00:00.000000000",
          "2022-09-29T00:00:00.000000000",
          "2022-09-30T00:00:00.000000000",
          "2022-10-03T00:00:00.000000000",
          "2022-10-04T00:00:00.000000000",
          "2022-10-05T00:00:00.000000000",
          "2022-10-06T00:00:00.000000000",
          "2022-10-07T00:00:00.000000000",
          "2022-10-11T00:00:00.000000000",
          "2022-10-12T00:00:00.000000000",
          "2022-10-13T00:00:00.000000000",
          "2022-10-14T00:00:00.000000000",
          "2022-10-17T00:00:00.000000000",
          "2022-10-18T00:00:00.000000000",
          "2022-10-19T00:00:00.000000000",
          "2022-10-20T00:00:00.000000000",
          "2022-10-21T00:00:00.000000000",
          "2022-10-24T00:00:00.000000000",
          "2022-10-25T00:00:00.000000000",
          "2022-10-26T00:00:00.000000000",
          "2022-10-27T00:00:00.000000000",
          "2022-10-28T00:00:00.000000000",
          "2022-10-31T00:00:00.000000000",
          "2022-11-01T00:00:00.000000000",
          "2022-11-02T00:00:00.000000000",
          "2022-11-03T00:00:00.000000000",
          "2022-11-04T00:00:00.000000000",
          "2022-11-07T00:00:00.000000000",
          "2022-11-08T00:00:00.000000000",
          "2022-11-09T00:00:00.000000000",
          "2022-11-10T00:00:00.000000000",
          "2022-11-11T00:00:00.000000000",
          "2022-11-14T00:00:00.000000000",
          "2023-02-16T00:00:00.000000000",
          "2023-02-17T00:00:00.000000000",
          "2023-02-20T00:00:00.000000000",
          "2023-02-21T00:00:00.000000000",
          "2023-02-22T00:00:00.000000000",
          "2023-02-23T00:00:00.000000000",
          "2023-02-24T00:00:00.000000000",
          "2023-03-01T00:00:00.000000000",
          "2023-03-02T00:00:00.000000000",
          "2023-03-03T00:00:00.000000000",
          "2023-03-06T00:00:00.000000000",
          "2023-03-07T00:00:00.000000000",
          "2023-03-08T00:00:00.000000000",
          "2023-03-09T00:00:00.000000000",
          "2023-03-10T00:00:00.000000000",
          "2023-03-13T00:00:00.000000000",
          "2023-03-14T00:00:00.000000000",
          "2023-03-15T00:00:00.000000000",
          "2023-03-16T00:00:00.000000000",
          "2023-03-17T00:00:00.000000000",
          "2023-03-20T00:00:00.000000000",
          "2023-03-21T00:00:00.000000000",
          "2023-03-22T00:00:00.000000000",
          "2023-03-23T00:00:00.000000000",
          "2023-03-24T00:00:00.000000000",
          "2023-03-27T00:00:00.000000000",
          "2023-03-28T00:00:00.000000000",
          "2023-03-29T00:00:00.000000000",
          "2023-03-30T00:00:00.000000000",
          "2023-03-31T00:00:00.000000000",
          "2023-04-06T00:00:00.000000000",
          "2023-04-07T00:00:00.000000000",
          "2023-04-10T00:00:00.000000000",
          "2023-04-11T00:00:00.000000000",
          "2023-04-12T00:00:00.000000000",
          "2023-04-13T00:00:00.000000000",
          "2023-04-14T00:00:00.000000000",
          "2023-04-17T00:00:00.000000000",
          "2023-04-18T00:00:00.000000000",
          "2023-04-19T00:00:00.000000000",
          "2023-04-20T00:00:00.000000000",
          "2023-04-21T00:00:00.000000000",
          "2023-04-24T00:00:00.000000000",
          "2023-04-25T00:00:00.000000000",
          "2023-04-26T00:00:00.000000000",
          "2023-04-27T00:00:00.000000000",
          "2023-04-28T00:00:00.000000000",
          "2023-05-02T00:00:00.000000000",
          "2023-05-03T00:00:00.000000000",
          "2023-05-04T00:00:00.000000000",
          "2023-05-05T00:00:00.000000000",
          "2023-05-08T00:00:00.000000000",
          "2023-05-09T00:00:00.000000000",
          "2023-05-10T00:00:00.000000000",
          "2023-05-11T00:00:00.000000000",
          "2023-05-12T00:00:00.000000000",
          "2023-05-15T00:00:00.000000000",
          "2023-05-16T00:00:00.000000000",
          "2023-05-17T00:00:00.000000000",
          "2023-05-18T00:00:00.000000000",
          "2023-05-19T00:00:00.000000000",
          "2023-05-22T00:00:00.000000000",
          "2023-05-23T00:00:00.000000000",
          "2023-05-24T00:00:00.000000000",
          "2023-05-25T00:00:00.000000000",
          "2023-05-26T00:00:00.000000000",
          "2023-05-29T00:00:00.000000000",
          "2023-05-30T00:00:00.000000000",
          "2023-05-31T00:00:00.000000000",
          "2023-06-01T00:00:00.000000000",
          "2023-06-02T00:00:00.000000000",
          "2023-06-05T00:00:00.000000000",
          "2023-06-06T00:00:00.000000000",
          "2023-06-07T00:00:00.000000000",
          "2023-06-08T00:00:00.000000000",
          "2023-06-09T00:00:00.000000000",
          "2023-06-12T00:00:00.000000000",
          "2023-06-13T00:00:00.000000000",
          "2023-06-14T00:00:00.000000000",
          "2023-06-15T00:00:00.000000000",
          "2023-06-16T00:00:00.000000000",
          "2023-06-19T00:00:00.000000000",
          "2023-06-20T00:00:00.000000000",
          "2023-06-21T00:00:00.000000000",
          "2023-06-26T00:00:00.000000000",
          "2023-06-27T00:00:00.000000000",
          "2023-06-28T00:00:00.000000000",
          "2023-06-29T00:00:00.000000000",
          "2023-06-30T00:00:00.000000000",
          "2023-07-03T00:00:00.000000000",
          "2023-07-04T00:00:00.000000000",
          "2023-07-05T00:00:00.000000000",
          "2023-07-06T00:00:00.000000000",
          "2023-07-07T00:00:00.000000000",
          "2023-07-10T00:00:00.000000000",
          "2023-07-11T00:00:00.000000000",
          "2023-07-12T00:00:00.000000000",
          "2023-07-13T00:00:00.000000000",
          "2023-07-14T00:00:00.000000000",
          "2023-07-17T00:00:00.000000000",
          "2023-07-18T00:00:00.000000000",
          "2023-07-19T00:00:00.000000000",
          "2023-07-20T00:00:00.000000000",
          "2023-07-21T00:00:00.000000000",
          "2023-07-24T00:00:00.000000000",
          "2023-07-25T00:00:00.000000000",
          "2023-07-26T00:00:00.000000000",
          "2023-07-27T00:00:00.000000000",
          "2023-07-28T00:00:00.000000000",
          "2023-07-31T00:00:00.000000000",
          "2023-08-01T00:00:00.000000000",
          "2023-08-02T00:00:00.000000000",
          "2023-08-04T00:00:00.000000000",
          "2023-08-07T00:00:00.000000000",
          "2023-08-08T00:00:00.000000000",
          "2023-08-09T00:00:00.000000000",
          "2023-08-10T00:00:00.000000000",
          "2023-08-11T00:00:00.000000000",
          "2023-08-14T00:00:00.000000000",
          "2023-08-15T00:00:00.000000000",
          "2023-08-16T00:00:00.000000000",
          "2023-08-17T00:00:00.000000000",
          "2023-08-18T00:00:00.000000000",
          "2023-08-21T00:00:00.000000000",
          "2023-08-22T00:00:00.000000000",
          "2023-08-23T00:00:00.000000000",
          "2023-08-24T00:00:00.000000000",
          "2023-08-25T00:00:00.000000000",
          "2023-08-28T00:00:00.000000000",
          "2023-08-29T00:00:00.000000000",
          "2023-08-30T00:00:00.000000000",
          "2023-08-31T00:00:00.000000000",
          "2023-09-01T00:00:00.000000000",
          "2023-09-04T00:00:00.000000000",
          "2023-09-05T00:00:00.000000000",
          "2023-09-06T00:00:00.000000000",
          "2023-09-07T00:00:00.000000000",
          "2023-09-08T00:00:00.000000000",
          "2023-09-11T00:00:00.000000000",
          "2023-09-12T00:00:00.000000000",
          "2023-09-13T00:00:00.000000000",
          "2023-09-14T00:00:00.000000000",
          "2023-09-15T00:00:00.000000000",
          "2023-10-24T00:00:00.000000000",
          "2023-10-25T00:00:00.000000000",
          "2023-10-26T00:00:00.000000000",
          "2023-10-27T00:00:00.000000000",
          "2023-10-30T00:00:00.000000000",
          "2023-10-31T00:00:00.000000000",
          "2023-11-01T00:00:00.000000000",
          "2023-11-02T00:00:00.000000000",
          "2023-11-03T00:00:00.000000000",
          "2023-11-06T00:00:00.000000000",
          "2023-11-07T00:00:00.000000000",
          "2023-11-08T00:00:00.000000000",
          "2023-11-09T00:00:00.000000000",
          "2023-11-10T00:00:00.000000000",
          "2023-11-13T00:00:00.000000000",
          "2023-11-14T00:00:00.000000000",
          "2023-11-15T00:00:00.000000000",
          "2023-11-16T00:00:00.000000000",
          "2023-11-17T00:00:00.000000000",
          "2023-11-20T00:00:00.000000000",
          "2023-11-21T00:00:00.000000000",
          "2023-11-22T00:00:00.000000000",
          "2023-11-23T00:00:00.000000000",
          "2023-11-24T00:00:00.000000000",
          "2023-11-27T00:00:00.000000000",
          "2023-11-28T00:00:00.000000000",
          "2023-11-29T00:00:00.000000000",
          "2023-11-30T00:00:00.000000000",
          "2023-12-01T00:00:00.000000000",
          "2023-12-04T00:00:00.000000000",
          "2023-12-05T00:00:00.000000000",
          "2023-12-06T00:00:00.000000000",
          "2023-12-07T00:00:00.000000000",
          "2023-12-08T00:00:00.000000000",
          "2023-12-11T00:00:00.000000000",
          "2023-12-12T00:00:00.000000000",
          "2023-12-13T00:00:00.000000000",
          "2023-12-14T00:00:00.000000000",
          "2023-12-15T00:00:00.000000000",
          "2023-12-18T00:00:00.000000000",
          "2023-12-19T00:00:00.000000000",
          "2023-12-20T00:00:00.000000000",
          "2023-12-21T00:00:00.000000000",
          "2023-12-22T00:00:00.000000000",
          "2023-12-25T00:00:00.000000000",
          "2023-12-26T00:00:00.000000000",
          "2023-12-27T00:00:00.000000000",
          "2023-12-28T00:00:00.000000000",
          "2023-12-29T00:00:00.000000000",
          "2024-01-02T00:00:00.000000000",
          "2024-01-03T00:00:00.000000000",
          "2024-01-04T00:00:00.000000000",
          "2024-01-05T00:00:00.000000000",
          "2024-01-08T00:00:00.000000000",
          "2024-01-09T00:00:00.000000000",
          "2024-01-10T00:00:00.000000000",
          "2024-01-11T00:00:00.000000000",
          "2024-01-12T00:00:00.000000000",
          "2024-01-15T00:00:00.000000000",
          "2024-01-16T00:00:00.000000000",
          "2024-01-17T00:00:00.000000000",
          "2024-01-18T00:00:00.000000000",
          "2024-01-19T00:00:00.000000000",
          "2024-01-22T00:00:00.000000000",
          "2024-01-23T00:00:00.000000000",
          "2024-01-24T00:00:00.000000000",
          "2024-08-05T00:00:00.000000000",
          "2024-08-06T00:00:00.000000000",
          "2024-08-07T00:00:00.000000000",
          "2024-08-08T00:00:00.000000000",
          "2024-08-09T00:00:00.000000000",
          "2024-08-12T00:00:00.000000000",
          "2024-08-13T00:00:00.000000000",
          "2024-08-14T00:00:00.000000000",
          "2024-08-15T00:00:00.000000000",
          "2024-08-16T00:00:00.000000000",
          "2024-08-19T00:00:00.000000000",
          "2024-08-20T00:00:00.000000000",
          "2024-08-21T00:00:00.000000000",
          "2024-08-22T00:00:00.000000000",
          "2024-08-23T00:00:00.000000000",
          "2024-08-26T00:00:00.000000000",
          "2024-08-27T00:00:00.000000000",
          "2024-08-28T00:00:00.000000000",
          "2024-08-29T00:00:00.000000000",
          "2024-08-30T00:00:00.000000000",
          "2024-09-02T00:00:00.000000000",
          "2024-09-03T00:00:00.000000000",
          "2024-09-04T00:00:00.000000000",
          "2024-09-05T00:00:00.000000000",
          "2024-09-06T00:00:00.000000000",
          "2024-09-09T00:00:00.000000000",
          "2024-09-10T00:00:00.000000000",
          "2024-09-11T00:00:00.000000000",
          "2024-09-12T00:00:00.000000000",
          "2024-09-13T00:00:00.000000000",
          "2024-09-16T00:00:00.000000000",
          "2024-09-18T00:00:00.000000000",
          "2024-09-19T00:00:00.000000000",
          "2024-09-20T00:00:00.000000000",
          "2025-04-01T00:00:00.000000000",
          "2025-04-02T00:00:00.000000000",
          "2025-04-07T00:00:00.000000000",
          "2025-04-08T00:00:00.000000000",
          "2025-04-09T00:00:00.000000000",
          "2025-04-10T00:00:00.000000000",
          "2025-04-11T00:00:00.000000000",
          "2025-04-14T00:00:00.000000000",
          "2025-04-15T00:00:00.000000000",
          "2025-04-16T00:00:00.000000000",
          "2025-04-17T00:00:00.000000000",
          "2025-04-18T00:00:00.000000000",
          "2025-04-21T00:00:00.000000000",
          "2025-04-22T00:00:00.000000000",
          "2025-04-23T00:00:00.000000000",
          "2025-04-24T00:00:00.000000000",
          "2025-04-25T00:00:00.000000000",
          "2025-04-28T00:00:00.000000000",
          "2025-04-29T00:00:00.000000000",
          "2025-04-30T00:00:00.000000000",
          "2025-05-02T00:00:00.000000000",
          "2025-05-05T00:00:00.000000000",
          "2025-05-06T00:00:00.000000000",
          "2025-05-07T00:00:00.000000000",
          "2025-05-08T00:00:00.000000000",
          "2025-05-09T00:00:00.000000000",
          "2025-05-12T00:00:00.000000000",
          "2025-05-13T00:00:00.000000000",
          "2025-05-14T00:00:00.000000000",
          "2025-05-15T00:00:00.000000000",
          "2025-05-16T00:00:00.000000000",
          "2025-05-19T00:00:00.000000000",
          "2025-05-20T00:00:00.000000000",
          "2025-05-21T00:00:00.000000000",
          "2025-05-22T00:00:00.000000000",
          "2025-05-23T00:00:00.000000000",
          "2025-05-26T00:00:00.000000000",
          "2025-05-27T00:00:00.000000000",
          "2025-05-28T00:00:00.000000000",
          "2025-05-29T00:00:00.000000000",
          "2025-06-02T00:00:00.000000000",
          "2025-06-03T00:00:00.000000000",
          "2025-06-04T00:00:00.000000000",
          "2025-06-05T00:00:00.000000000",
          "2025-06-06T00:00:00.000000000",
          "2025-06-09T00:00:00.000000000",
          "2025-06-10T00:00:00.000000000",
          "2025-06-11T00:00:00.000000000",
          "2025-06-12T00:00:00.000000000"
         ],
         "xaxis": "x",
         "y": {
          "bdata": "AQEBAQEBAQEBAQEBAQEBAQEBAQEBAQEBAQEBAQEBAQEBAQEBAQEBAQEBAQEBAQEBAQEBAQEBAQEBAQEBAQEBAQEBAQEBAQEBAQEBAQEBAQEBAQEBAQEBAQEBAQEBAQEBAQEBAQEBAQEBAQEBAQEBAQEBAQEBAQEBAQEBAQEBAQEBAQEBAQEBAQEBAQEBAQEBAQEBAQEBAQEBAQEBAQEBAQEBAQEBAQEBAQEBAQEBAQEBAQEBAQEBAQEBAQEBAQEBAQEBAQEBAQEBAQEBAQEBAQEBAQEBAQEBAQEBAQEBAQEBAQEBAQEBAQEBAQEBAQEBAQEBAQEBAQEBAQEBAQEBAQEBAQEBAQEBAQEBAQEBAQEBAQEBAQEBAQEBAQEBAQEBAQEBAQEBAQEBAQEBAQEBAQEBAQEBAQEBAQEBAQEBAQEBAQEBAQEBAQEBAQEBAQEBAQEBAQEBAQEBAQEBAQEBAQEBAQEBAQEBAQEBAQEBAQEBAQEBAQEBAQEBAQEBAQEBAQEBAQEBAQEBAQEBAQEBAQEBAQEBAQEBAQEBAQEBAQEBAQEBAQEBAQEBAQEBAQEBAQEBAQEBAQEBAQEBAQEBAQEBAQEBAQEBAQEBAQEBAQEBAQEBAQEBAQEBAQEBAQEBAQEBAQEBAQEBAQEBAQEBAQEBAQEBAQEBAQEBAQEBAQEBAQEBAQEBAQEBAQEBAQEBAQEBAQEBAQEBAQEBAQEBAQEBAQEBAQEBAQEBAQEBAQEBAQEBAQEBAQEBAQEBAQEBAQEBAQEBAQEBAQEBAQEBAQEBAQEBAQEBAQEBAQEBAQEBAQEBAQEBAQEBAQEBAQEBAQEBAQEBAQEBAQEBAQEBAQEBAQEBAQEBAQEBAQEBAQEBAQEBAQEBAQEBAQEBAQEBAQEBAQEBAQEBAQEBAQEBAQEBAQEBAQEBAQEBAQEBAQEBAQEBAQEBAQEBAQEBAQEBAQEBAQEBAQEBAQEBAQEBAQEBAQEBAQEBAQEBAQEBAQEBAQEBAQEBAQEBAQEBAQEBAQEBAQEBAQEBAQEBAQEBAQEBAQEBAQEBAQEBAQEBAQEBAQEBAQEBAQEBAQEBAQEBAQEBAQEBAQEBAQEBAQEBAQEBAQEBAQEBAQEBAQEBAQEBAQEBAQEBAQEBAQEBAQEBAQEBAQEBAQEBAQEBAQEBAQEBAQEBAQEBAQEBAQEBAQEBAQEBAQEBAQEBAQEBAQEBAQEBAQEBAQEBAQEBAQEBAQEBAQEBAQEBAQEBAQEBAQEBAQEBAQEBAQEBAQEBAQEBAQEBAQEBAQEBAQEBAQEBAQEBAQEBAQEBAQEBAQEBAQEBAQEBAQEBAQEBAQEBAQEBAQEBAQEBAQEBAQEBAQEBAQEBAQEBAQEBAQEBAQEBAQEBAQEBAQEBAQEBAQEBAQEBAQEBAQEBAQEBAQEBAQEBAQEBAQEBAQEBAQEBAQEBAQEBAQEBAQEBAQEBAQEBAQEBAQEBAQEBAQEBAQEBAQEBAQEBAQEBAQEBAQEBAQEBAQEBAQEBAQEBAQEBAQEBAQEBAQEBAQEBAQEBAQEBAQEBAQEBAQEBAQEBAQEBAQEBAQEBAQEBAQEBAQEBAQEBAQEBAQEBAQEBAQEBAQEBAQEBAQEBAQEBAQEBAQEBAQEBAQEBAQEBAQEBAQEBAQEBAQEBAQEBAQEBAQEBAQEBAQEBAQEBAQEBAQEBAQEBAQEBAQEBAQEBAQEBAQEBAQEBAQEBAQEBAQEBAQEBAQEBAQEBAQEBAQEBAQEBAQEBAQEBAQEBAQEBAQEBAQEBAQEBAQEBAQEBAQEBAQEBAQEBAQEBAQEBAQEBAQEBAQEBAQEBAQEBAQEBAQEBAQEBAQEBAQEBAQEBAQEBAQEBAQEBAQEBAQEBAQEBAQEBAQEBAQEBAQEBAQEBAQEBAQEBAQEBAQEBAQEBAQEBAQEBAQEBAQEBAQEBAQEBAQEBAQEBAQEBAQEBAQEBAQEBAQEBAQEBAQEBAQEBAQEBAQEBAQEBAQEBAQEBAQEBAQ==",
          "dtype": "i1"
         },
         "yaxis": "y"
        }
       ],
       "layout": {
        "legend": {
         "tracegroupgap": 0
        },
        "template": {
         "data": {
          "bar": [
           {
            "error_x": {
             "color": "#2a3f5f"
            },
            "error_y": {
             "color": "#2a3f5f"
            },
            "marker": {
             "line": {
              "color": "#E5ECF6",
              "width": 0.5
             },
             "pattern": {
              "fillmode": "overlay",
              "size": 10,
              "solidity": 0.2
             }
            },
            "type": "bar"
           }
          ],
          "barpolar": [
           {
            "marker": {
             "line": {
              "color": "#E5ECF6",
              "width": 0.5
             },
             "pattern": {
              "fillmode": "overlay",
              "size": 10,
              "solidity": 0.2
             }
            },
            "type": "barpolar"
           }
          ],
          "carpet": [
           {
            "aaxis": {
             "endlinecolor": "#2a3f5f",
             "gridcolor": "white",
             "linecolor": "white",
             "minorgridcolor": "white",
             "startlinecolor": "#2a3f5f"
            },
            "baxis": {
             "endlinecolor": "#2a3f5f",
             "gridcolor": "white",
             "linecolor": "white",
             "minorgridcolor": "white",
             "startlinecolor": "#2a3f5f"
            },
            "type": "carpet"
           }
          ],
          "choropleth": [
           {
            "colorbar": {
             "outlinewidth": 0,
             "ticks": ""
            },
            "type": "choropleth"
           }
          ],
          "contour": [
           {
            "colorbar": {
             "outlinewidth": 0,
             "ticks": ""
            },
            "colorscale": [
             [
              0,
              "#0d0887"
             ],
             [
              0.1111111111111111,
              "#46039f"
             ],
             [
              0.2222222222222222,
              "#7201a8"
             ],
             [
              0.3333333333333333,
              "#9c179e"
             ],
             [
              0.4444444444444444,
              "#bd3786"
             ],
             [
              0.5555555555555556,
              "#d8576b"
             ],
             [
              0.6666666666666666,
              "#ed7953"
             ],
             [
              0.7777777777777778,
              "#fb9f3a"
             ],
             [
              0.8888888888888888,
              "#fdca26"
             ],
             [
              1,
              "#f0f921"
             ]
            ],
            "type": "contour"
           }
          ],
          "contourcarpet": [
           {
            "colorbar": {
             "outlinewidth": 0,
             "ticks": ""
            },
            "type": "contourcarpet"
           }
          ],
          "heatmap": [
           {
            "colorbar": {
             "outlinewidth": 0,
             "ticks": ""
            },
            "colorscale": [
             [
              0,
              "#0d0887"
             ],
             [
              0.1111111111111111,
              "#46039f"
             ],
             [
              0.2222222222222222,
              "#7201a8"
             ],
             [
              0.3333333333333333,
              "#9c179e"
             ],
             [
              0.4444444444444444,
              "#bd3786"
             ],
             [
              0.5555555555555556,
              "#d8576b"
             ],
             [
              0.6666666666666666,
              "#ed7953"
             ],
             [
              0.7777777777777778,
              "#fb9f3a"
             ],
             [
              0.8888888888888888,
              "#fdca26"
             ],
             [
              1,
              "#f0f921"
             ]
            ],
            "type": "heatmap"
           }
          ],
          "histogram": [
           {
            "marker": {
             "pattern": {
              "fillmode": "overlay",
              "size": 10,
              "solidity": 0.2
             }
            },
            "type": "histogram"
           }
          ],
          "histogram2d": [
           {
            "colorbar": {
             "outlinewidth": 0,
             "ticks": ""
            },
            "colorscale": [
             [
              0,
              "#0d0887"
             ],
             [
              0.1111111111111111,
              "#46039f"
             ],
             [
              0.2222222222222222,
              "#7201a8"
             ],
             [
              0.3333333333333333,
              "#9c179e"
             ],
             [
              0.4444444444444444,
              "#bd3786"
             ],
             [
              0.5555555555555556,
              "#d8576b"
             ],
             [
              0.6666666666666666,
              "#ed7953"
             ],
             [
              0.7777777777777778,
              "#fb9f3a"
             ],
             [
              0.8888888888888888,
              "#fdca26"
             ],
             [
              1,
              "#f0f921"
             ]
            ],
            "type": "histogram2d"
           }
          ],
          "histogram2dcontour": [
           {
            "colorbar": {
             "outlinewidth": 0,
             "ticks": ""
            },
            "colorscale": [
             [
              0,
              "#0d0887"
             ],
             [
              0.1111111111111111,
              "#46039f"
             ],
             [
              0.2222222222222222,
              "#7201a8"
             ],
             [
              0.3333333333333333,
              "#9c179e"
             ],
             [
              0.4444444444444444,
              "#bd3786"
             ],
             [
              0.5555555555555556,
              "#d8576b"
             ],
             [
              0.6666666666666666,
              "#ed7953"
             ],
             [
              0.7777777777777778,
              "#fb9f3a"
             ],
             [
              0.8888888888888888,
              "#fdca26"
             ],
             [
              1,
              "#f0f921"
             ]
            ],
            "type": "histogram2dcontour"
           }
          ],
          "mesh3d": [
           {
            "colorbar": {
             "outlinewidth": 0,
             "ticks": ""
            },
            "type": "mesh3d"
           }
          ],
          "parcoords": [
           {
            "line": {
             "colorbar": {
              "outlinewidth": 0,
              "ticks": ""
             }
            },
            "type": "parcoords"
           }
          ],
          "pie": [
           {
            "automargin": true,
            "type": "pie"
           }
          ],
          "scatter": [
           {
            "fillpattern": {
             "fillmode": "overlay",
             "size": 10,
             "solidity": 0.2
            },
            "type": "scatter"
           }
          ],
          "scatter3d": [
           {
            "line": {
             "colorbar": {
              "outlinewidth": 0,
              "ticks": ""
             }
            },
            "marker": {
             "colorbar": {
              "outlinewidth": 0,
              "ticks": ""
             }
            },
            "type": "scatter3d"
           }
          ],
          "scattercarpet": [
           {
            "marker": {
             "colorbar": {
              "outlinewidth": 0,
              "ticks": ""
             }
            },
            "type": "scattercarpet"
           }
          ],
          "scattergeo": [
           {
            "marker": {
             "colorbar": {
              "outlinewidth": 0,
              "ticks": ""
             }
            },
            "type": "scattergeo"
           }
          ],
          "scattergl": [
           {
            "marker": {
             "colorbar": {
              "outlinewidth": 0,
              "ticks": ""
             }
            },
            "type": "scattergl"
           }
          ],
          "scattermap": [
           {
            "marker": {
             "colorbar": {
              "outlinewidth": 0,
              "ticks": ""
             }
            },
            "type": "scattermap"
           }
          ],
          "scattermapbox": [
           {
            "marker": {
             "colorbar": {
              "outlinewidth": 0,
              "ticks": ""
             }
            },
            "type": "scattermapbox"
           }
          ],
          "scatterpolar": [
           {
            "marker": {
             "colorbar": {
              "outlinewidth": 0,
              "ticks": ""
             }
            },
            "type": "scatterpolar"
           }
          ],
          "scatterpolargl": [
           {
            "marker": {
             "colorbar": {
              "outlinewidth": 0,
              "ticks": ""
             }
            },
            "type": "scatterpolargl"
           }
          ],
          "scatterternary": [
           {
            "marker": {
             "colorbar": {
              "outlinewidth": 0,
              "ticks": ""
             }
            },
            "type": "scatterternary"
           }
          ],
          "surface": [
           {
            "colorbar": {
             "outlinewidth": 0,
             "ticks": ""
            },
            "colorscale": [
             [
              0,
              "#0d0887"
             ],
             [
              0.1111111111111111,
              "#46039f"
             ],
             [
              0.2222222222222222,
              "#7201a8"
             ],
             [
              0.3333333333333333,
              "#9c179e"
             ],
             [
              0.4444444444444444,
              "#bd3786"
             ],
             [
              0.5555555555555556,
              "#d8576b"
             ],
             [
              0.6666666666666666,
              "#ed7953"
             ],
             [
              0.7777777777777778,
              "#fb9f3a"
             ],
             [
              0.8888888888888888,
              "#fdca26"
             ],
             [
              1,
              "#f0f921"
             ]
            ],
            "type": "surface"
           }
          ],
          "table": [
           {
            "cells": {
             "fill": {
              "color": "#EBF0F8"
             },
             "line": {
              "color": "white"
             }
            },
            "header": {
             "fill": {
              "color": "#C8D4E3"
             },
             "line": {
              "color": "white"
             }
            },
            "type": "table"
           }
          ]
         },
         "layout": {
          "annotationdefaults": {
           "arrowcolor": "#2a3f5f",
           "arrowhead": 0,
           "arrowwidth": 1
          },
          "autotypenumbers": "strict",
          "coloraxis": {
           "colorbar": {
            "outlinewidth": 0,
            "ticks": ""
           }
          },
          "colorscale": {
           "diverging": [
            [
             0,
             "#8e0152"
            ],
            [
             0.1,
             "#c51b7d"
            ],
            [
             0.2,
             "#de77ae"
            ],
            [
             0.3,
             "#f1b6da"
            ],
            [
             0.4,
             "#fde0ef"
            ],
            [
             0.5,
             "#f7f7f7"
            ],
            [
             0.6,
             "#e6f5d0"
            ],
            [
             0.7,
             "#b8e186"
            ],
            [
             0.8,
             "#7fbc41"
            ],
            [
             0.9,
             "#4d9221"
            ],
            [
             1,
             "#276419"
            ]
           ],
           "sequential": [
            [
             0,
             "#0d0887"
            ],
            [
             0.1111111111111111,
             "#46039f"
            ],
            [
             0.2222222222222222,
             "#7201a8"
            ],
            [
             0.3333333333333333,
             "#9c179e"
            ],
            [
             0.4444444444444444,
             "#bd3786"
            ],
            [
             0.5555555555555556,
             "#d8576b"
            ],
            [
             0.6666666666666666,
             "#ed7953"
            ],
            [
             0.7777777777777778,
             "#fb9f3a"
            ],
            [
             0.8888888888888888,
             "#fdca26"
            ],
            [
             1,
             "#f0f921"
            ]
           ],
           "sequentialminus": [
            [
             0,
             "#0d0887"
            ],
            [
             0.1111111111111111,
             "#46039f"
            ],
            [
             0.2222222222222222,
             "#7201a8"
            ],
            [
             0.3333333333333333,
             "#9c179e"
            ],
            [
             0.4444444444444444,
             "#bd3786"
            ],
            [
             0.5555555555555556,
             "#d8576b"
            ],
            [
             0.6666666666666666,
             "#ed7953"
            ],
            [
             0.7777777777777778,
             "#fb9f3a"
            ],
            [
             0.8888888888888888,
             "#fdca26"
            ],
            [
             1,
             "#f0f921"
            ]
           ]
          },
          "colorway": [
           "#636efa",
           "#EF553B",
           "#00cc96",
           "#ab63fa",
           "#FFA15A",
           "#19d3f3",
           "#FF6692",
           "#B6E880",
           "#FF97FF",
           "#FECB52"
          ],
          "font": {
           "color": "#2a3f5f"
          },
          "geo": {
           "bgcolor": "white",
           "lakecolor": "white",
           "landcolor": "#E5ECF6",
           "showlakes": true,
           "showland": true,
           "subunitcolor": "white"
          },
          "hoverlabel": {
           "align": "left"
          },
          "hovermode": "closest",
          "mapbox": {
           "style": "light"
          },
          "paper_bgcolor": "white",
          "plot_bgcolor": "#E5ECF6",
          "polar": {
           "angularaxis": {
            "gridcolor": "white",
            "linecolor": "white",
            "ticks": ""
           },
           "bgcolor": "#E5ECF6",
           "radialaxis": {
            "gridcolor": "white",
            "linecolor": "white",
            "ticks": ""
           }
          },
          "scene": {
           "xaxis": {
            "backgroundcolor": "#E5ECF6",
            "gridcolor": "white",
            "gridwidth": 2,
            "linecolor": "white",
            "showbackground": true,
            "ticks": "",
            "zerolinecolor": "white"
           },
           "yaxis": {
            "backgroundcolor": "#E5ECF6",
            "gridcolor": "white",
            "gridwidth": 2,
            "linecolor": "white",
            "showbackground": true,
            "ticks": "",
            "zerolinecolor": "white"
           },
           "zaxis": {
            "backgroundcolor": "#E5ECF6",
            "gridcolor": "white",
            "gridwidth": 2,
            "linecolor": "white",
            "showbackground": true,
            "ticks": "",
            "zerolinecolor": "white"
           }
          },
          "shapedefaults": {
           "line": {
            "color": "#2a3f5f"
           }
          },
          "ternary": {
           "aaxis": {
            "gridcolor": "white",
            "linecolor": "white",
            "ticks": ""
           },
           "baxis": {
            "gridcolor": "white",
            "linecolor": "white",
            "ticks": ""
           },
           "bgcolor": "#E5ECF6",
           "caxis": {
            "gridcolor": "white",
            "linecolor": "white",
            "ticks": ""
           }
          },
          "title": {
           "x": 0.05
          },
          "xaxis": {
           "automargin": true,
           "gridcolor": "white",
           "linecolor": "white",
           "ticks": "",
           "title": {
            "standoff": 15
           },
           "zerolinecolor": "white",
           "zerolinewidth": 2
          },
          "yaxis": {
           "automargin": true,
           "gridcolor": "white",
           "linecolor": "white",
           "ticks": "",
           "title": {
            "standoff": 15
           },
           "zerolinecolor": "white",
           "zerolinewidth": 2
          }
         }
        },
        "title": {
         "text": "Trading Days Timeline"
        },
        "xaxis": {
         "anchor": "y",
         "domain": [
          0,
          1
         ],
         "title": {
          "text": "Date"
         }
        },
        "yaxis": {
         "anchor": "x",
         "domain": [
          0,
          1
         ],
         "title": {
          "text": "y"
         },
         "visible": false
        }
       }
      }
     },
     "metadata": {},
     "output_type": "display_data"
    }
   ],
   "source": [
    "import plotly.express as px\n",
    "# trading_date(包含holing)\n",
    "# 假設 txf_df['datetime'] 是 datetime 格式\n",
    "trading_dates = txf_df.loc[txf_df['TradingDate'] == 1, 'datetime']\n",
    "plot_df = pd.DataFrame({'TradingDay': trading_dates})\n",
    "\n",
    "# 繪製互動式散點圖\n",
    "fig = px.scatter(plot_df, x='TradingDay', y=[1] * len(trading_dates), \n",
    "                 title='Trading Days Timeline',\n",
    "                 labels={'TradingDay': 'Date'},\n",
    "                 hover_data={'TradingDay': True})\n",
    "fig.update_yaxes(visible=False)  # 隱藏 Y 軸\n",
    "fig.update_traces(marker=dict(size=10, symbol='line-ns-open'))\n",
    "fig.show()"
   ]
  },
  {
   "cell_type": "code",
   "execution_count": 183,
   "id": "9975d2b6",
   "metadata": {},
   "outputs": [
    {
     "data": {
      "image/png": "[encoded data removed]",
      "text/plain": [
       "<Figure size 864x432 with 1 Axes>"
      ]
     },
     "metadata": {
      "needs_background": "light"
     },
     "output_type": "display_data"
    }
   ],
   "source": [
    "# 畫圖\n",
    "plt.figure(figsize=(12,6))\n",
    "\n",
    "# 策略 vs. 市場\n",
    "plt.plot(txf_df['datetime'], txf_df['CumsumReturn'], label='Strategy')\n",
    "plt.plot(market_df['datetime'], market_df['SimpleReturn'], label='Market')\n",
    "\n",
    "# 標出 y=0\n",
    "plt.axhline(0, color='gray', linestyle='--')\n",
    "\n",
    "# 標出 2020 年切點\n",
    "plt.axvline(pd.Timestamp(\"2020-01-01\"), color='red', linestyle='--', linewidth=2, label='2020 Split')\n",
    "\n",
    "plt.legend()\n",
    "plt.title('Cumulative Simple Return (In-sample vs Out-of-sample)')\n",
    "plt.xlabel(\"Date\")\n",
    "plt.ylabel(\"Cumulative Return\")\n",
    "plt.show()"
   ]
  },
  {
   "cell_type": "code",
   "execution_count": 184,
   "id": "2dcff105",
   "metadata": {},
   "outputs": [
    {
     "data": {
      "text/html": [
       "<h4>Performance Metrics</h4>"
      ],
      "text/plain": [
       "<IPython.core.display.HTML object>"
      ]
     },
     "metadata": {},
     "output_type": "display_data"
    },
    {
     "name": "stderr",
     "output_type": "stream",
     "text": [
      "c:\\Users\\herby\\AppData\\Local\\Programs\\Python\\Python310\\lib\\site-packages\\numpy\\core\\fromnumeric.py:86: FutureWarning:\n",
      "\n",
      "The behavior of DataFrame.prod with axis=None is deprecated, in a future version this will reduce over both axes and return a scalar. To retain the old behavior, pass axis=0 (or do not pass axis)\n",
      "\n",
      "c:\\Users\\herby\\AppData\\Local\\Programs\\Python\\Python310\\lib\\site-packages\\numpy\\core\\fromnumeric.py:86: FutureWarning:\n",
      "\n",
      "The behavior of DataFrame.prod with axis=None is deprecated, in a future version this will reduce over both axes and return a scalar. To retain the old behavior, pass axis=0 (or do not pass axis)\n",
      "\n",
      "c:\\Users\\herby\\AppData\\Local\\Programs\\Python\\Python310\\lib\\site-packages\\numpy\\core\\fromnumeric.py:86: FutureWarning:\n",
      "\n",
      "The behavior of DataFrame.prod with axis=None is deprecated, in a future version this will reduce over both axes and return a scalar. To retain the old behavior, pass axis=0 (or do not pass axis)\n",
      "\n",
      "c:\\Users\\herby\\AppData\\Local\\Programs\\Python\\Python310\\lib\\site-packages\\quantstats\\stats.py:484: FutureWarning:\n",
      "\n",
      "'M' is deprecated and will be removed in a future version, please use 'ME' instead.\n",
      "\n"
     ]
    },
    {
     "name": "stdout",
     "output_type": "stream",
     "text": [
      "                           Strategy    Benchmark\n",
      "-------------------------  ----------  -----------\n",
      "Start Period               2009-01-05  2009-01-05\n",
      "End Period                 2025-06-27  2025-06-27\n",
      "Risk-Free Rate             0.0%        0.0%\n",
      "Time in Market             38.0%       100.0%\n",
      "\n",
      "Cumulative Return          345.48%     369.97%\n",
      "CAGR﹪                     9.49%       9.84%\n",
      "\n",
      "Sharpe                     0.86        0.61\n",
      "Prob. Sharpe Ratio         99.97%      99.22%\n",
      "Smart Sharpe               0.83        0.59\n",
      "Sortino                    1.29        0.85\n",
      "Smart Sortino              1.24        0.82\n",
      "Sortino/√2                 0.91        0.6\n",
      "Smart Sortino/√2           0.88        0.58\n",
      "Omega                      1.3         1.3\n",
      "\n",
      "Max Drawdown               -29.13%     -31.51%\n",
      "Longest DD Days            908         1217\n",
      "Volatility (ann.)          11.58%      18.67%\n",
      "R^2                        0.0         0.0\n",
      "Information Ratio          -0.0        -0.0\n",
      "Calmar                     0.33        0.31\n",
      "Skew                       0.13        -0.52\n",
      "Kurtosis                   31.19       8.82\n",
      "\n",
      "Expected Daily %           0.04%       0.04%\n",
      "Expected Monthly %         0.76%       0.78%\n",
      "Expected Yearly %          9.19%       9.53%\n",
      "Kelly Criterion            9.58%       2.8%\n",
      "Risk of Ruin               0.0%        0.0%\n",
      "Daily Value-at-Risk        -1.16%      -1.89%\n",
      "Expected Shortfall (cVaR)  -1.16%      -1.89%\n",
      "\n",
      "Max Consecutive Wins       10          12\n",
      "Max Consecutive Losses     8           9\n",
      "Gain/Pain Ratio            0.3         0.12\n",
      "Gain/Pain (1M)             1.77        0.65\n",
      "\n",
      "Payoff Ratio               0.98        0.89\n",
      "Profit Factor              1.3         1.12\n",
      "Common Sense Ratio         1.6         1.09\n",
      "CPC Index                  0.7         0.54\n",
      "Tail Ratio                 1.22        0.98\n",
      "Outlier Win Ratio          13.24       3.45\n",
      "Outlier Loss Ratio         3.52        3.3\n",
      "\n",
      "MTD                        4.35%       4.07%\n",
      "3M                         4.93%       -0.81%\n",
      "6M                         4.93%       -5.2%\n",
      "YTD                        4.93%       -4.57%\n",
      "1Y                         21.1%       -2.75%\n",
      "3Y (ann.)                  11.73%      14.76%\n",
      "5Y (ann.)                  9.57%       12.69%\n",
      "10Y (ann.)                 6.72%       9.0%\n",
      "All-time (ann.)            9.49%       9.84%\n",
      "\n",
      "Best Day                   9.82%       9.87%\n",
      "Worst Day                  -10.01%     -10.03%\n",
      "Best Month                 15.98%      18.19%\n",
      "Worst Month                -11.52%     -16.15%\n",
      "Best Year                  73.88%      71.93%\n",
      "Worst Year                 -20.1%      -23.22%\n",
      "\n",
      "Avg. Drawdown              -2.27%      -3.31%\n",
      "Avg. Drawdown Days         47          46\n",
      "Recovery Factor            11.86       11.74\n",
      "Ulcer Index                0.07        0.11\n",
      "Serenity Index             2.81        2.09\n",
      "\n",
      "Avg. Up Month              3.56%       4.59%\n",
      "Avg. Down Month            -3.25%      -5.35%\n",
      "Win Days %                 55.36%      54.23%\n",
      "Win Month %                70.09%      62.63%\n",
      "Win Quarter %              77.55%      65.15%\n",
      "Win Year %                 82.35%      70.59%\n",
      "\n",
      "Beta                       0.0         -\n",
      "Alpha                      0.1         -\n",
      "Correlation                0.69%       -\n",
      "Treynor Ratio              80338.16%   -\n"
     ]
    },
    {
     "data": {
      "text/plain": [
       "None"
      ]
     },
     "metadata": {},
     "output_type": "display_data"
    },
    {
     "data": {
      "text/html": [
       "<h4>5 Worst Drawdowns</h4>"
      ],
      "text/plain": [
       "<IPython.core.display.HTML object>"
      ]
     },
     "metadata": {},
     "output_type": "display_data"
    },
    {
     "data": {
      "application/vnd.microsoft.datawrangler.viewer.v0+json": {
       "columns": [
        {
         "name": "index",
         "rawType": "int64",
         "type": "integer"
        },
        {
         "name": "Start",
         "rawType": "object",
         "type": "string"
        },
        {
         "name": "Valley",
         "rawType": "object",
         "type": "string"
        },
        {
         "name": "End",
         "rawType": "object",
         "type": "string"
        },
        {
         "name": "Days",
         "rawType": "int32",
         "type": "integer"
        },
        {
         "name": "Max Drawdown",
         "rawType": "float64",
         "type": "float"
        },
        {
         "name": "99% Max Drawdown",
         "rawType": "float64",
         "type": "float"
        }
       ],
       "ref": "8db2a201-55ef-40e4-93d2-eefbc2803d12",
       "rows": [
        [
         "1",
         "2022-02-11",
         "2022-10-25",
         "2024-08-07",
         "908",
         "-29.125479120435816",
         "-27.80915876538238"
        ],
        [
         "2",
         "2024-08-21",
         "2025-04-09",
         "2025-05-14",
         "266",
         "-19.63536323789978",
         "-12.235381889396546"
        ],
        [
         "3",
         "2011-07-28",
         "2011-09-26",
         "2012-11-02",
         "463",
         "-19.350570032573234",
         "-17.986563517915222"
        ],
        [
         "4",
         "2019-07-17",
         "2020-03-19",
         "2020-03-26",
         "253",
         "-9.245777518928367",
         "-4.484566103669185"
        ],
        [
         "5",
         "2010-01-04",
         "2010-02-06",
         "2010-05-13",
         "129",
         "-8.741660915573968",
         "-8.684149988497825"
        ]
       ],
       "shape": {
        "columns": 6,
        "rows": 5
       }
      },
      "text/html": [
       "<div>\n",
       "<style scoped>\n",
       "    .dataframe tbody tr th:only-of-type {\n",
       "        vertical-align: middle;\n",
       "    }\n",
       "\n",
       "    .dataframe tbody tr th {\n",
       "        vertical-align: top;\n",
       "    }\n",
       "\n",
       "    .dataframe thead th {\n",
       "        text-align: right;\n",
       "    }\n",
       "</style>\n",
       "<table border=\"1\" class=\"dataframe\">\n",
       "  <thead>\n",
       "    <tr style=\"text-align: right;\">\n",
       "      <th></th>\n",
       "      <th>Start</th>\n",
       "      <th>Valley</th>\n",
       "      <th>End</th>\n",
       "      <th>Days</th>\n",
       "      <th>Max Drawdown</th>\n",
       "      <th>99% Max Drawdown</th>\n",
       "    </tr>\n",
       "  </thead>\n",
       "  <tbody>\n",
       "    <tr>\n",
       "      <th>1</th>\n",
       "      <td>2022-02-11</td>\n",
       "      <td>2022-10-25</td>\n",
       "      <td>2024-08-07</td>\n",
       "      <td>908</td>\n",
       "      <td>-29.13</td>\n",
       "      <td>-27.81</td>\n",
       "    </tr>\n",
       "    <tr>\n",
       "      <th>2</th>\n",
       "      <td>2024-08-21</td>\n",
       "      <td>2025-04-09</td>\n",
       "      <td>2025-05-14</td>\n",
       "      <td>266</td>\n",
       "      <td>-19.64</td>\n",
       "      <td>-12.24</td>\n",
       "    </tr>\n",
       "    <tr>\n",
       "      <th>3</th>\n",
       "      <td>2011-07-28</td>\n",
       "      <td>2011-09-26</td>\n",
       "      <td>2012-11-02</td>\n",
       "      <td>463</td>\n",
       "      <td>-19.35</td>\n",
       "      <td>-17.99</td>\n",
       "    </tr>\n",
       "    <tr>\n",
       "      <th>4</th>\n",
       "      <td>2019-07-17</td>\n",
       "      <td>2020-03-19</td>\n",
       "      <td>2020-03-26</td>\n",
       "      <td>253</td>\n",
       "      <td>-9.25</td>\n",
       "      <td>-4.48</td>\n",
       "    </tr>\n",
       "    <tr>\n",
       "      <th>5</th>\n",
       "      <td>2010-01-04</td>\n",
       "      <td>2010-02-06</td>\n",
       "      <td>2010-05-13</td>\n",
       "      <td>129</td>\n",
       "      <td>-8.74</td>\n",
       "      <td>-8.68</td>\n",
       "    </tr>\n",
       "  </tbody>\n",
       "</table>\n",
       "</div>"
      ],
      "text/plain": [
       "        Start      Valley         End  Days  Max Drawdown  99% Max Drawdown\n",
       "1  2022-02-11  2022-10-25  2024-08-07   908        -29.13            -27.81\n",
       "2  2024-08-21  2025-04-09  2025-05-14   266        -19.64            -12.24\n",
       "3  2011-07-28  2011-09-26  2012-11-02   463        -19.35            -17.99\n",
       "4  2019-07-17  2020-03-19  2020-03-26   253         -9.25             -4.48\n",
       "5  2010-01-04  2010-02-06  2010-05-13   129         -8.74             -8.68"
      ]
     },
     "metadata": {},
     "output_type": "display_data"
    },
    {
     "data": {
      "text/html": [
       "<h4>Strategy Visualization</h4>"
      ],
      "text/plain": [
       "<IPython.core.display.HTML object>"
      ]
     },
     "metadata": {},
     "output_type": "display_data"
    },
    {
     "name": "stderr",
     "output_type": "stream",
     "text": [
      "c:\\Users\\herby\\AppData\\Local\\Programs\\Python\\Python310\\lib\\site-packages\\quantstats\\_plotting\\core.py:293: UserWarning:\n",
      "\n",
      "Glyph 19968 (\\N{CJK UNIFIED IDEOGRAPH-4E00}) missing from font(s) Arial.\n",
      "\n",
      "c:\\Users\\herby\\AppData\\Local\\Programs\\Python\\Python310\\lib\\site-packages\\quantstats\\_plotting\\core.py:293: UserWarning:\n",
      "\n",
      "Glyph 26376 (\\N{CJK UNIFIED IDEOGRAPH-6708}) missing from font(s) Arial.\n",
      "\n",
      "c:\\Users\\herby\\AppData\\Local\\Programs\\Python\\Python310\\lib\\site-packages\\quantstats\\_plotting\\core.py:293: UserWarning:\n",
      "\n",
      "Glyph 20845 (\\N{CJK UNIFIED IDEOGRAPH-516D}) missing from font(s) Arial.\n",
      "\n",
      "c:\\Users\\herby\\AppData\\Local\\Programs\\Python\\Python310\\lib\\site-packages\\IPython\\core\\pylabtools.py:151: UserWarning:\n",
      "\n",
      "Glyph 19968 (\\N{CJK UNIFIED IDEOGRAPH-4E00}) missing from font(s) Arial.\n",
      "\n",
      "c:\\Users\\herby\\AppData\\Local\\Programs\\Python\\Python310\\lib\\site-packages\\IPython\\core\\pylabtools.py:151: UserWarning:\n",
      "\n",
      "Glyph 26376 (\\N{CJK UNIFIED IDEOGRAPH-6708}) missing from font(s) Arial.\n",
      "\n",
      "c:\\Users\\herby\\AppData\\Local\\Programs\\Python\\Python310\\lib\\site-packages\\IPython\\core\\pylabtools.py:151: UserWarning:\n",
      "\n",
      "Glyph 20845 (\\N{CJK UNIFIED IDEOGRAPH-516D}) missing from font(s) Arial.\n",
      "\n"
     ]
    },
    {
     "data": {
      "image/png": "[encoded data removed]",
      "text/plain": [
       "<Figure size 576x345.6 with 1 Axes>"
      ]
     },
     "metadata": {},
     "output_type": "display_data"
    },
    {
     "name": "stderr",
     "output_type": "stream",
     "text": [
      "c:\\Users\\herby\\AppData\\Local\\Programs\\Python\\Python310\\lib\\site-packages\\quantstats\\_plotting\\core.py:293: UserWarning:\n",
      "\n",
      "Glyph 19968 (\\N{CJK UNIFIED IDEOGRAPH-4E00}) missing from font(s) Arial.\n",
      "\n",
      "c:\\Users\\herby\\AppData\\Local\\Programs\\Python\\Python310\\lib\\site-packages\\quantstats\\_plotting\\core.py:293: UserWarning:\n",
      "\n",
      "Glyph 26376 (\\N{CJK UNIFIED IDEOGRAPH-6708}) missing from font(s) Arial.\n",
      "\n",
      "c:\\Users\\herby\\AppData\\Local\\Programs\\Python\\Python310\\lib\\site-packages\\quantstats\\_plotting\\core.py:293: UserWarning:\n",
      "\n",
      "Glyph 20845 (\\N{CJK UNIFIED IDEOGRAPH-516D}) missing from font(s) Arial.\n",
      "\n",
      "c:\\Users\\herby\\AppData\\Local\\Programs\\Python\\Python310\\lib\\site-packages\\IPython\\core\\pylabtools.py:151: UserWarning:\n",
      "\n",
      "Glyph 19968 (\\N{CJK UNIFIED IDEOGRAPH-4E00}) missing from font(s) Arial.\n",
      "\n",
      "c:\\Users\\herby\\AppData\\Local\\Programs\\Python\\Python310\\lib\\site-packages\\IPython\\core\\pylabtools.py:151: UserWarning:\n",
      "\n",
      "Glyph 26376 (\\N{CJK UNIFIED IDEOGRAPH-6708}) missing from font(s) Arial.\n",
      "\n",
      "c:\\Users\\herby\\AppData\\Local\\Programs\\Python\\Python310\\lib\\site-packages\\IPython\\core\\pylabtools.py:151: UserWarning:\n",
      "\n",
      "Glyph 20845 (\\N{CJK UNIFIED IDEOGRAPH-516D}) missing from font(s) Arial.\n",
      "\n"
     ]
    },
    {
     "data": {
      "image/png": "[encoded data removed]",
      "text/plain": [
       "<Figure size 576x288 with 1 Axes>"
      ]
     },
     "metadata": {},
     "output_type": "display_data"
    },
    {
     "name": "stderr",
     "output_type": "stream",
     "text": [
      "c:\\Users\\herby\\AppData\\Local\\Programs\\Python\\Python310\\lib\\site-packages\\quantstats\\_plotting\\core.py:293: UserWarning:\n",
      "\n",
      "Glyph 19968 (\\N{CJK UNIFIED IDEOGRAPH-4E00}) missing from font(s) Arial.\n",
      "\n",
      "c:\\Users\\herby\\AppData\\Local\\Programs\\Python\\Python310\\lib\\site-packages\\quantstats\\_plotting\\core.py:293: UserWarning:\n",
      "\n",
      "Glyph 26376 (\\N{CJK UNIFIED IDEOGRAPH-6708}) missing from font(s) Arial.\n",
      "\n",
      "c:\\Users\\herby\\AppData\\Local\\Programs\\Python\\Python310\\lib\\site-packages\\quantstats\\_plotting\\core.py:293: UserWarning:\n",
      "\n",
      "Glyph 20845 (\\N{CJK UNIFIED IDEOGRAPH-516D}) missing from font(s) Arial.\n",
      "\n",
      "c:\\Users\\herby\\AppData\\Local\\Programs\\Python\\Python310\\lib\\site-packages\\IPython\\core\\pylabtools.py:151: UserWarning:\n",
      "\n",
      "Glyph 19968 (\\N{CJK UNIFIED IDEOGRAPH-4E00}) missing from font(s) Arial.\n",
      "\n",
      "c:\\Users\\herby\\AppData\\Local\\Programs\\Python\\Python310\\lib\\site-packages\\IPython\\core\\pylabtools.py:151: UserWarning:\n",
      "\n",
      "Glyph 26376 (\\N{CJK UNIFIED IDEOGRAPH-6708}) missing from font(s) Arial.\n",
      "\n",
      "c:\\Users\\herby\\AppData\\Local\\Programs\\Python\\Python310\\lib\\site-packages\\IPython\\core\\pylabtools.py:151: UserWarning:\n",
      "\n",
      "Glyph 20845 (\\N{CJK UNIFIED IDEOGRAPH-516D}) missing from font(s) Arial.\n",
      "\n"
     ]
    },
    {
     "data": {
      "image/png": "[encoded data removed]",
      "text/plain": [
       "<Figure size 576x288 with 1 Axes>"
      ]
     },
     "metadata": {},
     "output_type": "display_data"
    },
    {
     "name": "stderr",
     "output_type": "stream",
     "text": [
      "c:\\Users\\herby\\AppData\\Local\\Programs\\Python\\Python310\\lib\\site-packages\\quantstats\\_plotting\\wrappers.py:376: FutureWarning:\n",
      "\n",
      "'A' is deprecated and will be removed in a future version, please use 'YE' instead.\n",
      "\n",
      "c:\\Users\\herby\\AppData\\Local\\Programs\\Python\\Python310\\lib\\site-packages\\quantstats\\_plotting\\wrappers.py:377: FutureWarning:\n",
      "\n",
      "'A' is deprecated and will be removed in a future version, please use 'YE' instead.\n",
      "\n",
      "c:\\Users\\herby\\AppData\\Local\\Programs\\Python\\Python310\\lib\\site-packages\\quantstats\\_plotting\\wrappers.py:383: FutureWarning:\n",
      "\n",
      "'A' is deprecated and will be removed in a future version, please use 'YE' instead.\n",
      "\n",
      "c:\\Users\\herby\\AppData\\Local\\Programs\\Python\\Python310\\lib\\site-packages\\quantstats\\_plotting\\wrappers.py:386: FutureWarning:\n",
      "\n",
      "'A' is deprecated and will be removed in a future version, please use 'YE' instead.\n",
      "\n"
     ]
    },
    {
     "data": {
      "image/png": "[encoded data removed]",
      "text/plain": [
       "<Figure size 576x288 with 1 Axes>"
      ]
     },
     "metadata": {},
     "output_type": "display_data"
    },
    {
     "name": "stderr",
     "output_type": "stream",
     "text": [
      "c:\\Users\\herby\\AppData\\Local\\Programs\\Python\\Python310\\lib\\site-packages\\quantstats\\_plotting\\core.py:325: FutureWarning:\n",
      "\n",
      "'M' is deprecated and will be removed in a future version, please use 'ME' instead.\n",
      "\n",
      "c:\\Users\\herby\\AppData\\Local\\Programs\\Python\\Python310\\lib\\site-packages\\quantstats\\_plotting\\core.py:326: FutureWarning:\n",
      "\n",
      "'M' is deprecated and will be removed in a future version, please use 'ME' instead.\n",
      "\n"
     ]
    },
    {
     "data": {
      "image/png": "[encoded data removed]",
      "text/plain": [
       "<Figure size 576x288 with 1 Axes>"
      ]
     },
     "metadata": {},
     "output_type": "display_data"
    },
    {
     "name": "stderr",
     "output_type": "stream",
     "text": [
      "c:\\Users\\herby\\AppData\\Local\\Programs\\Python\\Python310\\lib\\site-packages\\quantstats\\_plotting\\core.py:293: UserWarning:\n",
      "\n",
      "Glyph 19968 (\\N{CJK UNIFIED IDEOGRAPH-4E00}) missing from font(s) Arial.\n",
      "\n",
      "c:\\Users\\herby\\AppData\\Local\\Programs\\Python\\Python310\\lib\\site-packages\\quantstats\\_plotting\\core.py:293: UserWarning:\n",
      "\n",
      "Glyph 26376 (\\N{CJK UNIFIED IDEOGRAPH-6708}) missing from font(s) Arial.\n",
      "\n",
      "c:\\Users\\herby\\AppData\\Local\\Programs\\Python\\Python310\\lib\\site-packages\\quantstats\\_plotting\\core.py:293: UserWarning:\n",
      "\n",
      "Glyph 20845 (\\N{CJK UNIFIED IDEOGRAPH-516D}) missing from font(s) Arial.\n",
      "\n",
      "c:\\Users\\herby\\AppData\\Local\\Programs\\Python\\Python310\\lib\\site-packages\\IPython\\core\\pylabtools.py:151: UserWarning:\n",
      "\n",
      "Glyph 19968 (\\N{CJK UNIFIED IDEOGRAPH-4E00}) missing from font(s) Arial.\n",
      "\n",
      "c:\\Users\\herby\\AppData\\Local\\Programs\\Python\\Python310\\lib\\site-packages\\IPython\\core\\pylabtools.py:151: UserWarning:\n",
      "\n",
      "Glyph 26376 (\\N{CJK UNIFIED IDEOGRAPH-6708}) missing from font(s) Arial.\n",
      "\n",
      "c:\\Users\\herby\\AppData\\Local\\Programs\\Python\\Python310\\lib\\site-packages\\IPython\\core\\pylabtools.py:151: UserWarning:\n",
      "\n",
      "Glyph 20845 (\\N{CJK UNIFIED IDEOGRAPH-516D}) missing from font(s) Arial.\n",
      "\n"
     ]
    },
    {
     "data": {
      "image/png": "[encoded data removed]",
      "text/plain": [
       "<Figure size 576x172.8 with 1 Axes>"
      ]
     },
     "metadata": {},
     "output_type": "display_data"
    },
    {
     "name": "stderr",
     "output_type": "stream",
     "text": [
      "c:\\Users\\herby\\AppData\\Local\\Programs\\Python\\Python310\\lib\\site-packages\\quantstats\\_plotting\\core.py:540: UserWarning:\n",
      "\n",
      "Glyph 19968 (\\N{CJK UNIFIED IDEOGRAPH-4E00}) missing from font(s) Arial.\n",
      "\n",
      "c:\\Users\\herby\\AppData\\Local\\Programs\\Python\\Python310\\lib\\site-packages\\quantstats\\_plotting\\core.py:540: UserWarning:\n",
      "\n",
      "Glyph 26376 (\\N{CJK UNIFIED IDEOGRAPH-6708}) missing from font(s) Arial.\n",
      "\n",
      "c:\\Users\\herby\\AppData\\Local\\Programs\\Python\\Python310\\lib\\site-packages\\quantstats\\_plotting\\core.py:540: UserWarning:\n",
      "\n",
      "Glyph 20845 (\\N{CJK UNIFIED IDEOGRAPH-516D}) missing from font(s) Arial.\n",
      "\n",
      "c:\\Users\\herby\\AppData\\Local\\Programs\\Python\\Python310\\lib\\site-packages\\IPython\\core\\pylabtools.py:151: UserWarning:\n",
      "\n",
      "Glyph 19968 (\\N{CJK UNIFIED IDEOGRAPH-4E00}) missing from font(s) Arial.\n",
      "\n",
      "c:\\Users\\herby\\AppData\\Local\\Programs\\Python\\Python310\\lib\\site-packages\\IPython\\core\\pylabtools.py:151: UserWarning:\n",
      "\n",
      "Glyph 26376 (\\N{CJK UNIFIED IDEOGRAPH-6708}) missing from font(s) Arial.\n",
      "\n",
      "c:\\Users\\herby\\AppData\\Local\\Programs\\Python\\Python310\\lib\\site-packages\\IPython\\core\\pylabtools.py:151: UserWarning:\n",
      "\n",
      "Glyph 20845 (\\N{CJK UNIFIED IDEOGRAPH-516D}) missing from font(s) Arial.\n",
      "\n"
     ]
    },
    {
     "data": {
      "image/png": "[encoded data removed]",
      "text/plain": [
       "<Figure size 576x172.8 with 1 Axes>"
      ]
     },
     "metadata": {
      "needs_background": "light"
     },
     "output_type": "display_data"
    },
    {
     "name": "stderr",
     "output_type": "stream",
     "text": [
      "c:\\Users\\herby\\AppData\\Local\\Programs\\Python\\Python310\\lib\\site-packages\\quantstats\\_plotting\\core.py:462: UserWarning:\n",
      "\n",
      "Glyph 19971 (\\N{CJK UNIFIED IDEOGRAPH-4E03}) missing from font(s) Arial.\n",
      "\n",
      "c:\\Users\\herby\\AppData\\Local\\Programs\\Python\\Python310\\lib\\site-packages\\quantstats\\_plotting\\core.py:462: UserWarning:\n",
      "\n",
      "Glyph 26376 (\\N{CJK UNIFIED IDEOGRAPH-6708}) missing from font(s) Arial.\n",
      "\n",
      "c:\\Users\\herby\\AppData\\Local\\Programs\\Python\\Python310\\lib\\site-packages\\quantstats\\_plotting\\core.py:462: UserWarning:\n",
      "\n",
      "Glyph 20845 (\\N{CJK UNIFIED IDEOGRAPH-516D}) missing from font(s) Arial.\n",
      "\n",
      "c:\\Users\\herby\\AppData\\Local\\Programs\\Python\\Python310\\lib\\site-packages\\IPython\\core\\pylabtools.py:151: UserWarning:\n",
      "\n",
      "Glyph 19971 (\\N{CJK UNIFIED IDEOGRAPH-4E03}) missing from font(s) Arial.\n",
      "\n",
      "c:\\Users\\herby\\AppData\\Local\\Programs\\Python\\Python310\\lib\\site-packages\\IPython\\core\\pylabtools.py:151: UserWarning:\n",
      "\n",
      "Glyph 26376 (\\N{CJK UNIFIED IDEOGRAPH-6708}) missing from font(s) Arial.\n",
      "\n",
      "c:\\Users\\herby\\AppData\\Local\\Programs\\Python\\Python310\\lib\\site-packages\\IPython\\core\\pylabtools.py:151: UserWarning:\n",
      "\n",
      "Glyph 20845 (\\N{CJK UNIFIED IDEOGRAPH-516D}) missing from font(s) Arial.\n",
      "\n"
     ]
    },
    {
     "data": {
      "image/png": "[encoded data removed]",
      "text/plain": [
       "<Figure size 576x172.8 with 1 Axes>"
      ]
     },
     "metadata": {
      "needs_background": "light"
     },
     "output_type": "display_data"
    },
    {
     "name": "stderr",
     "output_type": "stream",
     "text": [
      "c:\\Users\\herby\\AppData\\Local\\Programs\\Python\\Python310\\lib\\site-packages\\quantstats\\_plotting\\core.py:462: UserWarning:\n",
      "\n",
      "Glyph 19968 (\\N{CJK UNIFIED IDEOGRAPH-4E00}) missing from font(s) Arial.\n",
      "\n",
      "c:\\Users\\herby\\AppData\\Local\\Programs\\Python\\Python310\\lib\\site-packages\\quantstats\\_plotting\\core.py:462: UserWarning:\n",
      "\n",
      "Glyph 26376 (\\N{CJK UNIFIED IDEOGRAPH-6708}) missing from font(s) Arial.\n",
      "\n",
      "c:\\Users\\herby\\AppData\\Local\\Programs\\Python\\Python310\\lib\\site-packages\\quantstats\\_plotting\\core.py:462: UserWarning:\n",
      "\n",
      "Glyph 20845 (\\N{CJK UNIFIED IDEOGRAPH-516D}) missing from font(s) Arial.\n",
      "\n",
      "c:\\Users\\herby\\AppData\\Local\\Programs\\Python\\Python310\\lib\\site-packages\\IPython\\core\\pylabtools.py:151: UserWarning:\n",
      "\n",
      "Glyph 19968 (\\N{CJK UNIFIED IDEOGRAPH-4E00}) missing from font(s) Arial.\n",
      "\n",
      "c:\\Users\\herby\\AppData\\Local\\Programs\\Python\\Python310\\lib\\site-packages\\IPython\\core\\pylabtools.py:151: UserWarning:\n",
      "\n",
      "Glyph 26376 (\\N{CJK UNIFIED IDEOGRAPH-6708}) missing from font(s) Arial.\n",
      "\n",
      "c:\\Users\\herby\\AppData\\Local\\Programs\\Python\\Python310\\lib\\site-packages\\IPython\\core\\pylabtools.py:151: UserWarning:\n",
      "\n",
      "Glyph 20845 (\\N{CJK UNIFIED IDEOGRAPH-516D}) missing from font(s) Arial.\n",
      "\n"
     ]
    },
    {
     "data": {
      "image/png": "[encoded data removed]",
      "text/plain": [
       "<Figure size 576x172.8 with 1 Axes>"
      ]
     },
     "metadata": {
      "needs_background": "light"
     },
     "output_type": "display_data"
    },
    {
     "name": "stderr",
     "output_type": "stream",
     "text": [
      "c:\\Users\\herby\\AppData\\Local\\Programs\\Python\\Python310\\lib\\site-packages\\quantstats\\_plotting\\core.py:462: UserWarning:\n",
      "\n",
      "Glyph 19968 (\\N{CJK UNIFIED IDEOGRAPH-4E00}) missing from font(s) Arial.\n",
      "\n",
      "c:\\Users\\herby\\AppData\\Local\\Programs\\Python\\Python310\\lib\\site-packages\\quantstats\\_plotting\\core.py:462: UserWarning:\n",
      "\n",
      "Glyph 26376 (\\N{CJK UNIFIED IDEOGRAPH-6708}) missing from font(s) Arial.\n",
      "\n",
      "c:\\Users\\herby\\AppData\\Local\\Programs\\Python\\Python310\\lib\\site-packages\\quantstats\\_plotting\\core.py:462: UserWarning:\n",
      "\n",
      "Glyph 20845 (\\N{CJK UNIFIED IDEOGRAPH-516D}) missing from font(s) Arial.\n",
      "\n",
      "c:\\Users\\herby\\AppData\\Local\\Programs\\Python\\Python310\\lib\\site-packages\\IPython\\core\\pylabtools.py:151: UserWarning:\n",
      "\n",
      "Glyph 19968 (\\N{CJK UNIFIED IDEOGRAPH-4E00}) missing from font(s) Arial.\n",
      "\n",
      "c:\\Users\\herby\\AppData\\Local\\Programs\\Python\\Python310\\lib\\site-packages\\IPython\\core\\pylabtools.py:151: UserWarning:\n",
      "\n",
      "Glyph 26376 (\\N{CJK UNIFIED IDEOGRAPH-6708}) missing from font(s) Arial.\n",
      "\n",
      "c:\\Users\\herby\\AppData\\Local\\Programs\\Python\\Python310\\lib\\site-packages\\IPython\\core\\pylabtools.py:151: UserWarning:\n",
      "\n",
      "Glyph 20845 (\\N{CJK UNIFIED IDEOGRAPH-516D}) missing from font(s) Arial.\n",
      "\n"
     ]
    },
    {
     "data": {
      "image/png": "[encoded data removed]",
      "text/plain": [
       "<Figure size 576x172.8 with 1 Axes>"
      ]
     },
     "metadata": {
      "needs_background": "light"
     },
     "output_type": "display_data"
    },
    {
     "name": "stderr",
     "output_type": "stream",
     "text": [
      "c:\\Users\\herby\\AppData\\Local\\Programs\\Python\\Python310\\lib\\site-packages\\quantstats\\_plotting\\core.py:626: UserWarning:\n",
      "\n",
      "Glyph 19968 (\\N{CJK UNIFIED IDEOGRAPH-4E00}) missing from font(s) Arial.\n",
      "\n",
      "c:\\Users\\herby\\AppData\\Local\\Programs\\Python\\Python310\\lib\\site-packages\\quantstats\\_plotting\\core.py:626: UserWarning:\n",
      "\n",
      "Glyph 26376 (\\N{CJK UNIFIED IDEOGRAPH-6708}) missing from font(s) Arial.\n",
      "\n",
      "c:\\Users\\herby\\AppData\\Local\\Programs\\Python\\Python310\\lib\\site-packages\\quantstats\\_plotting\\core.py:626: UserWarning:\n",
      "\n",
      "Glyph 20845 (\\N{CJK UNIFIED IDEOGRAPH-516D}) missing from font(s) Arial.\n",
      "\n",
      "c:\\Users\\herby\\AppData\\Local\\Programs\\Python\\Python310\\lib\\site-packages\\IPython\\core\\pylabtools.py:151: UserWarning:\n",
      "\n",
      "Glyph 19968 (\\N{CJK UNIFIED IDEOGRAPH-4E00}) missing from font(s) Arial.\n",
      "\n",
      "c:\\Users\\herby\\AppData\\Local\\Programs\\Python\\Python310\\lib\\site-packages\\IPython\\core\\pylabtools.py:151: UserWarning:\n",
      "\n",
      "Glyph 26376 (\\N{CJK UNIFIED IDEOGRAPH-6708}) missing from font(s) Arial.\n",
      "\n",
      "c:\\Users\\herby\\AppData\\Local\\Programs\\Python\\Python310\\lib\\site-packages\\IPython\\core\\pylabtools.py:151: UserWarning:\n",
      "\n",
      "Glyph 20845 (\\N{CJK UNIFIED IDEOGRAPH-516D}) missing from font(s) Arial.\n",
      "\n"
     ]
    },
    {
     "data": {
      "image/png": "[encoded data removed]",
      "text/plain": [
       "<Figure size 576x288 with 1 Axes>"
      ]
     },
     "metadata": {},
     "output_type": "display_data"
    },
    {
     "name": "stderr",
     "output_type": "stream",
     "text": [
      "c:\\Users\\herby\\AppData\\Local\\Programs\\Python\\Python310\\lib\\site-packages\\quantstats\\_plotting\\core.py:293: UserWarning:\n",
      "\n",
      "Glyph 19968 (\\N{CJK UNIFIED IDEOGRAPH-4E00}) missing from font(s) Arial.\n",
      "\n",
      "c:\\Users\\herby\\AppData\\Local\\Programs\\Python\\Python310\\lib\\site-packages\\quantstats\\_plotting\\core.py:293: UserWarning:\n",
      "\n",
      "Glyph 26376 (\\N{CJK UNIFIED IDEOGRAPH-6708}) missing from font(s) Arial.\n",
      "\n",
      "c:\\Users\\herby\\AppData\\Local\\Programs\\Python\\Python310\\lib\\site-packages\\quantstats\\_plotting\\core.py:293: UserWarning:\n",
      "\n",
      "Glyph 20845 (\\N{CJK UNIFIED IDEOGRAPH-516D}) missing from font(s) Arial.\n",
      "\n",
      "c:\\Users\\herby\\AppData\\Local\\Programs\\Python\\Python310\\lib\\site-packages\\IPython\\core\\pylabtools.py:151: UserWarning:\n",
      "\n",
      "Glyph 19968 (\\N{CJK UNIFIED IDEOGRAPH-4E00}) missing from font(s) Arial.\n",
      "\n",
      "c:\\Users\\herby\\AppData\\Local\\Programs\\Python\\Python310\\lib\\site-packages\\IPython\\core\\pylabtools.py:151: UserWarning:\n",
      "\n",
      "Glyph 26376 (\\N{CJK UNIFIED IDEOGRAPH-6708}) missing from font(s) Arial.\n",
      "\n",
      "c:\\Users\\herby\\AppData\\Local\\Programs\\Python\\Python310\\lib\\site-packages\\IPython\\core\\pylabtools.py:151: UserWarning:\n",
      "\n",
      "Glyph 20845 (\\N{CJK UNIFIED IDEOGRAPH-516D}) missing from font(s) Arial.\n",
      "\n"
     ]
    },
    {
     "data": {
      "image/png": "[encoded data removed]",
      "text/plain": [
       "<Figure size 576x230.4 with 1 Axes>"
      ]
     },
     "metadata": {},
     "output_type": "display_data"
    },
    {
     "ename": "TypeError",
     "evalue": "DataFrame.pivot() takes 1 positional argument but 4 were given",
     "output_type": "error",
     "traceback": [
      "\u001b[1;31m---------------------------------------------------------------------------\u001b[0m",
      "\u001b[1;31mTypeError\u001b[0m                                 Traceback (most recent call last)",
      "Input \u001b[1;32mIn [184]\u001b[0m, in \u001b[0;36m<module>\u001b[1;34m\u001b[0m\n\u001b[0;32m      1\u001b[0m strategy_returns \u001b[38;5;241m=\u001b[39m txf_df\u001b[38;5;241m.\u001b[39mset_index(\u001b[38;5;124m'\u001b[39m\u001b[38;5;124mdatetime\u001b[39m\u001b[38;5;124m'\u001b[39m)[\u001b[38;5;124m\"\u001b[39m\u001b[38;5;124mTradeReturn\u001b[39m\u001b[38;5;124m\"\u001b[39m]\n\u001b[0;32m      2\u001b[0m benchmark \u001b[38;5;241m=\u001b[39m market_df\u001b[38;5;241m.\u001b[39mset_index(\u001b[38;5;124m'\u001b[39m\u001b[38;5;124mdatetime\u001b[39m\u001b[38;5;124m'\u001b[39m)[\u001b[38;5;124m\"\u001b[39m\u001b[38;5;124mReturn\u001b[39m\u001b[38;5;124m\"\u001b[39m]\n\u001b[1;32m----> 3\u001b[0m \u001b[43mqs\u001b[49m\u001b[38;5;241;43m.\u001b[39;49m\u001b[43mreports\u001b[49m\u001b[38;5;241;43m.\u001b[39;49m\u001b[43mfull\u001b[49m\u001b[43m(\u001b[49m\u001b[43mstrategy_returns\u001b[49m\u001b[43m,\u001b[49m\u001b[43mbenchmark\u001b[49m\u001b[38;5;241;43m=\u001b[39;49m\u001b[43mbenchmark\u001b[49m\u001b[43m)\u001b[49m\n",
      "File \u001b[1;32mc:\\Users\\herby\\AppData\\Local\\Programs\\Python\\Python310\\lib\\site-packages\\quantstats\\reports.py:317\u001b[0m, in \u001b[0;36mfull\u001b[1;34m(returns, benchmark, rf, grayscale, figsize, display, compounded, periods_per_year, match_dates)\u001b[0m\n\u001b[0;32m    314\u001b[0m     \u001b[38;5;28mprint\u001b[39m(\u001b[38;5;124m'\u001b[39m\u001b[38;5;130;01m\\n\u001b[39;00m\u001b[38;5;130;01m\\n\u001b[39;00m\u001b[38;5;124m'\u001b[39m)\n\u001b[0;32m    315\u001b[0m     \u001b[38;5;28mprint\u001b[39m(\u001b[38;5;124m'\u001b[39m\u001b[38;5;124m[Strategy Visualization]\u001b[39m\u001b[38;5;130;01m\\n\u001b[39;00m\u001b[38;5;124mvia Matplotlib\u001b[39m\u001b[38;5;124m'\u001b[39m)\n\u001b[1;32m--> 317\u001b[0m \u001b[43mplots\u001b[49m\u001b[43m(\u001b[49m\u001b[43mreturns\u001b[49m\u001b[38;5;241;43m=\u001b[39;49m\u001b[43mreturns\u001b[49m\u001b[43m,\u001b[49m\u001b[43m \u001b[49m\u001b[43mbenchmark\u001b[49m\u001b[38;5;241;43m=\u001b[39;49m\u001b[43mbenchmark\u001b[49m\u001b[43m,\u001b[49m\n\u001b[0;32m    318\u001b[0m \u001b[43m      \u001b[49m\u001b[43mgrayscale\u001b[49m\u001b[38;5;241;43m=\u001b[39;49m\u001b[43mgrayscale\u001b[49m\u001b[43m,\u001b[49m\u001b[43m \u001b[49m\u001b[43mfigsize\u001b[49m\u001b[38;5;241;43m=\u001b[39;49m\u001b[43mfigsize\u001b[49m\u001b[43m,\u001b[49m\u001b[43m \u001b[49m\u001b[43mmode\u001b[49m\u001b[38;5;241;43m=\u001b[39;49m\u001b[38;5;124;43m'\u001b[39;49m\u001b[38;5;124;43mfull\u001b[39;49m\u001b[38;5;124;43m'\u001b[39;49m\u001b[43m,\u001b[49m\n\u001b[0;32m    319\u001b[0m \u001b[43m      \u001b[49m\u001b[43mperiods_per_year\u001b[49m\u001b[38;5;241;43m=\u001b[39;49m\u001b[43mperiods_per_year\u001b[49m\u001b[43m,\u001b[49m\u001b[43m \u001b[49m\u001b[43mprepare_returns\u001b[49m\u001b[38;5;241;43m=\u001b[39;49m\u001b[38;5;28;43;01mFalse\u001b[39;49;00m\u001b[43m)\u001b[49m\n",
      "File \u001b[1;32mc:\\Users\\herby\\AppData\\Local\\Programs\\Python\\Python310\\lib\\site-packages\\quantstats\\reports.py:729\u001b[0m, in \u001b[0;36mplots\u001b[1;34m(returns, benchmark, grayscale, figsize, mode, compounded, periods_per_year, prepare_returns, match_dates)\u001b[0m\n\u001b[0;32m    720\u001b[0m _plots\u001b[38;5;241m.\u001b[39mdrawdowns_periods(returns, grayscale\u001b[38;5;241m=\u001b[39mgrayscale,\n\u001b[0;32m    721\u001b[0m                          figsize\u001b[38;5;241m=\u001b[39m(figsize[\u001b[38;5;241m0\u001b[39m], figsize[\u001b[38;5;241m0\u001b[39m]\u001b[38;5;241m*\u001b[39m\u001b[38;5;241m.5\u001b[39m),\n\u001b[0;32m    722\u001b[0m                          show\u001b[38;5;241m=\u001b[39m\u001b[38;5;28;01mTrue\u001b[39;00m, ylabel\u001b[38;5;241m=\u001b[39m\u001b[38;5;28;01mFalse\u001b[39;00m,\n\u001b[0;32m    723\u001b[0m                          prepare_returns\u001b[38;5;241m=\u001b[39m\u001b[38;5;28;01mFalse\u001b[39;00m)\n\u001b[0;32m    725\u001b[0m _plots\u001b[38;5;241m.\u001b[39mdrawdown(returns, grayscale\u001b[38;5;241m=\u001b[39mgrayscale,\n\u001b[0;32m    726\u001b[0m                 figsize\u001b[38;5;241m=\u001b[39m(figsize[\u001b[38;5;241m0\u001b[39m], figsize[\u001b[38;5;241m0\u001b[39m]\u001b[38;5;241m*\u001b[39m\u001b[38;5;241m.4\u001b[39m),\n\u001b[0;32m    727\u001b[0m                 show\u001b[38;5;241m=\u001b[39m\u001b[38;5;28;01mTrue\u001b[39;00m, ylabel\u001b[38;5;241m=\u001b[39m\u001b[38;5;28;01mFalse\u001b[39;00m)\n\u001b[1;32m--> 729\u001b[0m \u001b[43m_plots\u001b[49m\u001b[38;5;241;43m.\u001b[39;49m\u001b[43mmonthly_heatmap\u001b[49m\u001b[43m(\u001b[49m\u001b[43mreturns\u001b[49m\u001b[43m,\u001b[49m\u001b[43m \u001b[49m\u001b[43mgrayscale\u001b[49m\u001b[38;5;241;43m=\u001b[39;49m\u001b[43mgrayscale\u001b[49m\u001b[43m,\u001b[49m\n\u001b[0;32m    730\u001b[0m \u001b[43m                       \u001b[49m\u001b[43mfigsize\u001b[49m\u001b[38;5;241;43m=\u001b[39;49m\u001b[43m(\u001b[49m\u001b[43mfigsize\u001b[49m\u001b[43m[\u001b[49m\u001b[38;5;241;43m0\u001b[39;49m\u001b[43m]\u001b[49m\u001b[43m,\u001b[49m\u001b[43m \u001b[49m\u001b[43mfigsize\u001b[49m\u001b[43m[\u001b[49m\u001b[38;5;241;43m0\u001b[39;49m\u001b[43m]\u001b[49m\u001b[38;5;241;43m*\u001b[39;49m\u001b[38;5;241;43m.5\u001b[39;49m\u001b[43m)\u001b[49m\u001b[43m,\u001b[49m\n\u001b[0;32m    731\u001b[0m \u001b[43m                       \u001b[49m\u001b[43mshow\u001b[49m\u001b[38;5;241;43m=\u001b[39;49m\u001b[38;5;28;43;01mTrue\u001b[39;49;00m\u001b[43m,\u001b[49m\u001b[43m \u001b[49m\u001b[43mylabel\u001b[49m\u001b[38;5;241;43m=\u001b[39;49m\u001b[38;5;28;43;01mFalse\u001b[39;49;00m\u001b[43m)\u001b[49m\n\u001b[0;32m    733\u001b[0m _plots\u001b[38;5;241m.\u001b[39mdistribution(returns, grayscale\u001b[38;5;241m=\u001b[39mgrayscale,\n\u001b[0;32m    734\u001b[0m                     figsize\u001b[38;5;241m=\u001b[39m(figsize[\u001b[38;5;241m0\u001b[39m], figsize[\u001b[38;5;241m0\u001b[39m]\u001b[38;5;241m*\u001b[39m\u001b[38;5;241m.5\u001b[39m),\n\u001b[0;32m    735\u001b[0m                     show\u001b[38;5;241m=\u001b[39m\u001b[38;5;28;01mTrue\u001b[39;00m, ylabel\u001b[38;5;241m=\u001b[39m\u001b[38;5;28;01mFalse\u001b[39;00m,\n\u001b[0;32m    736\u001b[0m                     prepare_returns\u001b[38;5;241m=\u001b[39m\u001b[38;5;28;01mFalse\u001b[39;00m)\n",
      "File \u001b[1;32mc:\\Users\\herby\\AppData\\Local\\Programs\\Python\\Python310\\lib\\site-packages\\quantstats\\_plotting\\wrappers.py:629\u001b[0m, in \u001b[0;36mmonthly_heatmap\u001b[1;34m(returns, annot_size, figsize, cbar, square, compounded, eoy, grayscale, fontname, ylabel, savefig, show)\u001b[0m\n\u001b[0;32m    620\u001b[0m \u001b[38;5;28;01mdef\u001b[39;00m \u001b[38;5;21mmonthly_heatmap\u001b[39m(returns, annot_size\u001b[38;5;241m=\u001b[39m\u001b[38;5;241m10\u001b[39m, figsize\u001b[38;5;241m=\u001b[39m(\u001b[38;5;241m10\u001b[39m, \u001b[38;5;241m5\u001b[39m),\n\u001b[0;32m    621\u001b[0m                     cbar\u001b[38;5;241m=\u001b[39m\u001b[38;5;28;01mTrue\u001b[39;00m, square\u001b[38;5;241m=\u001b[39m\u001b[38;5;28;01mFalse\u001b[39;00m,\n\u001b[0;32m    622\u001b[0m                     compounded\u001b[38;5;241m=\u001b[39m\u001b[38;5;28;01mTrue\u001b[39;00m, eoy\u001b[38;5;241m=\u001b[39m\u001b[38;5;28;01mFalse\u001b[39;00m,\n\u001b[1;32m   (...)\u001b[0m\n\u001b[0;32m    625\u001b[0m \n\u001b[0;32m    626\u001b[0m     \u001b[38;5;66;03m# colors, ls, alpha = _core._get_colors(grayscale)\u001b[39;00m\n\u001b[0;32m    627\u001b[0m     cmap \u001b[38;5;241m=\u001b[39m \u001b[38;5;124m'\u001b[39m\u001b[38;5;124mgray\u001b[39m\u001b[38;5;124m'\u001b[39m \u001b[38;5;28;01mif\u001b[39;00m grayscale \u001b[38;5;28;01melse\u001b[39;00m \u001b[38;5;124m'\u001b[39m\u001b[38;5;124mRdYlGn\u001b[39m\u001b[38;5;124m'\u001b[39m\n\u001b[1;32m--> 629\u001b[0m     returns \u001b[38;5;241m=\u001b[39m \u001b[43m_stats\u001b[49m\u001b[38;5;241;43m.\u001b[39;49m\u001b[43mmonthly_returns\u001b[49m\u001b[43m(\u001b[49m\u001b[43mreturns\u001b[49m\u001b[43m,\u001b[49m\u001b[43m \u001b[49m\u001b[43meoy\u001b[49m\u001b[38;5;241;43m=\u001b[39;49m\u001b[43meoy\u001b[49m\u001b[43m,\u001b[49m\n\u001b[0;32m    630\u001b[0m \u001b[43m                                     \u001b[49m\u001b[43mcompounded\u001b[49m\u001b[38;5;241;43m=\u001b[39;49m\u001b[43mcompounded\u001b[49m\u001b[43m)\u001b[49m \u001b[38;5;241m*\u001b[39m \u001b[38;5;241m100\u001b[39m\n\u001b[0;32m    632\u001b[0m     fig_height \u001b[38;5;241m=\u001b[39m \u001b[38;5;28mlen\u001b[39m(returns) \u001b[38;5;241m/\u001b[39m \u001b[38;5;241m3\u001b[39m\n\u001b[0;32m    634\u001b[0m     \u001b[38;5;28;01mif\u001b[39;00m figsize \u001b[38;5;129;01mis\u001b[39;00m \u001b[38;5;28;01mNone\u001b[39;00m:\n",
      "File \u001b[1;32mc:\\Users\\herby\\AppData\\Local\\Programs\\Python\\Python310\\lib\\site-packages\\quantstats\\stats.py:968\u001b[0m, in \u001b[0;36mmonthly_returns\u001b[1;34m(returns, eoy, compounded, prepare_returns)\u001b[0m\n\u001b[0;32m    965\u001b[0m returns[\u001b[38;5;124m'\u001b[39m\u001b[38;5;124mMonth\u001b[39m\u001b[38;5;124m'\u001b[39m] \u001b[38;5;241m=\u001b[39m returns\u001b[38;5;241m.\u001b[39mindex\u001b[38;5;241m.\u001b[39mstrftime(\u001b[38;5;124m'\u001b[39m\u001b[38;5;124m%\u001b[39m\u001b[38;5;124mb\u001b[39m\u001b[38;5;124m'\u001b[39m)\n\u001b[0;32m    967\u001b[0m \u001b[38;5;66;03m# make pivot table\u001b[39;00m\n\u001b[1;32m--> 968\u001b[0m returns \u001b[38;5;241m=\u001b[39m \u001b[43mreturns\u001b[49m\u001b[38;5;241;43m.\u001b[39;49m\u001b[43mpivot\u001b[49m\u001b[43m(\u001b[49m\u001b[38;5;124;43m'\u001b[39;49m\u001b[38;5;124;43mYear\u001b[39;49m\u001b[38;5;124;43m'\u001b[39;49m\u001b[43m,\u001b[49m\u001b[43m \u001b[49m\u001b[38;5;124;43m'\u001b[39;49m\u001b[38;5;124;43mMonth\u001b[39;49m\u001b[38;5;124;43m'\u001b[39;49m\u001b[43m,\u001b[49m\u001b[43m \u001b[49m\u001b[38;5;124;43m'\u001b[39;49m\u001b[38;5;124;43mReturns\u001b[39;49m\u001b[38;5;124;43m'\u001b[39;49m\u001b[43m)\u001b[49m\u001b[38;5;241m.\u001b[39mfillna(\u001b[38;5;241m0\u001b[39m)\n\u001b[0;32m    970\u001b[0m \u001b[38;5;66;03m# handle missing months\u001b[39;00m\n\u001b[0;32m    971\u001b[0m \u001b[38;5;28;01mfor\u001b[39;00m month \u001b[38;5;129;01min\u001b[39;00m [\u001b[38;5;124m'\u001b[39m\u001b[38;5;124mJan\u001b[39m\u001b[38;5;124m'\u001b[39m, \u001b[38;5;124m'\u001b[39m\u001b[38;5;124mFeb\u001b[39m\u001b[38;5;124m'\u001b[39m, \u001b[38;5;124m'\u001b[39m\u001b[38;5;124mMar\u001b[39m\u001b[38;5;124m'\u001b[39m, \u001b[38;5;124m'\u001b[39m\u001b[38;5;124mApr\u001b[39m\u001b[38;5;124m'\u001b[39m, \u001b[38;5;124m'\u001b[39m\u001b[38;5;124mMay\u001b[39m\u001b[38;5;124m'\u001b[39m, \u001b[38;5;124m'\u001b[39m\u001b[38;5;124mJun\u001b[39m\u001b[38;5;124m'\u001b[39m,\n\u001b[0;32m    972\u001b[0m               \u001b[38;5;124m'\u001b[39m\u001b[38;5;124mJul\u001b[39m\u001b[38;5;124m'\u001b[39m, \u001b[38;5;124m'\u001b[39m\u001b[38;5;124mAug\u001b[39m\u001b[38;5;124m'\u001b[39m, \u001b[38;5;124m'\u001b[39m\u001b[38;5;124mSep\u001b[39m\u001b[38;5;124m'\u001b[39m, \u001b[38;5;124m'\u001b[39m\u001b[38;5;124mOct\u001b[39m\u001b[38;5;124m'\u001b[39m, \u001b[38;5;124m'\u001b[39m\u001b[38;5;124mNov\u001b[39m\u001b[38;5;124m'\u001b[39m, \u001b[38;5;124m'\u001b[39m\u001b[38;5;124mDec\u001b[39m\u001b[38;5;124m'\u001b[39m]:\n",
      "\u001b[1;31mTypeError\u001b[0m: DataFrame.pivot() takes 1 positional argument but 4 were given"
     ]
    }
   ],
   "source": [
    "strategy_returns = txf_df.set_index('datetime')[\"TradeReturn\"]\n",
    "benchmark = market_df.set_index('datetime')[\"Return\"]\n",
    "qs.reports.full(strategy_returns,benchmark=benchmark)"
   ]
  }
 ],
 "metadata": {
  "kernelspec": {
   "display_name": "Python 3",
   "language": "python",
   "name": "python3"
  },
  "language_info": {
   "codemirror_mode": {
    "name": "ipython",
    "version": 3
   },
   "file_extension": ".py",
   "mimetype": "text/x-python",
   "name": "python",
   "nbconvert_exporter": "python",
   "pygments_lexer": "ipython3",
   "version": "3.10.0"
  }
 },
 "nbformat": 4,
 "nbformat_minor": 5
}
